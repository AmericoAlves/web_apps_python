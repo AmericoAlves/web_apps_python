{
 "cells": [
  {
   "cell_type": "markdown",
   "metadata": {},
   "source": [
    "# Usando Google Maps para prdecir crimenes\n",
    "\n",
    "**Ciudad : San Franscisco**"
   ]
  },
  {
   "cell_type": "code",
   "execution_count": 1,
   "metadata": {},
   "outputs": [],
   "source": [
    "import warnings\n",
    "warnings.simplefilter('ignore')"
   ]
  },
  {
   "cell_type": "code",
   "execution_count": 2,
   "metadata": {},
   "outputs": [],
   "source": [
    "# librerias\n",
    "\n",
    "import numpy as np \n",
    "import pandas as pd \n",
    "import datetime\n",
    "import urllib\n",
    "import matplotlib.pyplot as plt"
   ]
  },
  {
   "cell_type": "code",
   "execution_count": 3,
   "metadata": {},
   "outputs": [
    {
     "data": {
      "text/html": [
       "<div>\n",
       "<style scoped>\n",
       "    .dataframe tbody tr th:only-of-type {\n",
       "        vertical-align: middle;\n",
       "    }\n",
       "\n",
       "    .dataframe tbody tr th {\n",
       "        vertical-align: top;\n",
       "    }\n",
       "\n",
       "    .dataframe thead th {\n",
       "        text-align: right;\n",
       "    }\n",
       "</style>\n",
       "<table border=\"1\" class=\"dataframe\">\n",
       "  <thead>\n",
       "    <tr style=\"text-align: right;\">\n",
       "      <th></th>\n",
       "      <th>IncidntNum</th>\n",
       "      <th>Category</th>\n",
       "      <th>Descript</th>\n",
       "      <th>DayOfWeek</th>\n",
       "      <th>Date</th>\n",
       "      <th>Time</th>\n",
       "      <th>PdDistrict</th>\n",
       "      <th>Resolution</th>\n",
       "      <th>Address</th>\n",
       "      <th>X</th>\n",
       "      <th>Y</th>\n",
       "      <th>Location</th>\n",
       "    </tr>\n",
       "  </thead>\n",
       "  <tbody>\n",
       "    <tr>\n",
       "      <th>0</th>\n",
       "      <td>110308742</td>\n",
       "      <td>MISSING PERSON</td>\n",
       "      <td>FOUND PERSON</td>\n",
       "      <td>Friday</td>\n",
       "      <td>04/15/2011</td>\n",
       "      <td>16:00</td>\n",
       "      <td>TARAVAL</td>\n",
       "      <td>LOCATED</td>\n",
       "      <td>0 Block of CRESPI DR</td>\n",
       "      <td>-122.476328</td>\n",
       "      <td>37.719687</td>\n",
       "      <td>(37.7196874952717, -122.476327815126)</td>\n",
       "    </tr>\n",
       "    <tr>\n",
       "      <th>1</th>\n",
       "      <td>90316914</td>\n",
       "      <td>WARRANTS</td>\n",
       "      <td>WARRANT ARREST</td>\n",
       "      <td>Thursday</td>\n",
       "      <td>03/26/2009</td>\n",
       "      <td>12:28</td>\n",
       "      <td>SOUTHERN</td>\n",
       "      <td>ARREST, BOOKED</td>\n",
       "      <td>1000 Block of MARKET ST</td>\n",
       "      <td>-122.411340</td>\n",
       "      <td>37.781271</td>\n",
       "      <td>(37.7812707434494, -122.411339562557)</td>\n",
       "    </tr>\n",
       "    <tr>\n",
       "      <th>2</th>\n",
       "      <td>130132311</td>\n",
       "      <td>SECONDARY CODES</td>\n",
       "      <td>DOMESTIC VIOLENCE</td>\n",
       "      <td>Friday</td>\n",
       "      <td>02/15/2013</td>\n",
       "      <td>02:00</td>\n",
       "      <td>PARK</td>\n",
       "      <td>ARREST, BOOKED</td>\n",
       "      <td>CASTRO ST / MARKET ST</td>\n",
       "      <td>-122.435188</td>\n",
       "      <td>37.762670</td>\n",
       "      <td>(37.7626702770872, -122.435187699349)</td>\n",
       "    </tr>\n",
       "    <tr>\n",
       "      <th>3</th>\n",
       "      <td>80052833</td>\n",
       "      <td>OTHER OFFENSES</td>\n",
       "      <td>DRIVERS LICENSE, SUSPENDED OR REVOKED</td>\n",
       "      <td>Tuesday</td>\n",
       "      <td>01/15/2008</td>\n",
       "      <td>20:13</td>\n",
       "      <td>MISSION</td>\n",
       "      <td>ARREST, CITED</td>\n",
       "      <td>VALENCIA ST / 16TH ST</td>\n",
       "      <td>-122.421886</td>\n",
       "      <td>37.764918</td>\n",
       "      <td>(37.7649178909424, -122.421886357981)</td>\n",
       "    </tr>\n",
       "    <tr>\n",
       "      <th>4</th>\n",
       "      <td>70535770</td>\n",
       "      <td>SECONDARY CODES</td>\n",
       "      <td>DOMESTIC VIOLENCE</td>\n",
       "      <td>Saturday</td>\n",
       "      <td>05/26/2007</td>\n",
       "      <td>18:10</td>\n",
       "      <td>MISSION</td>\n",
       "      <td>ARREST, BOOKED</td>\n",
       "      <td>2800 Block of FOLSOM ST</td>\n",
       "      <td>-122.413935</td>\n",
       "      <td>37.751693</td>\n",
       "      <td>(37.7516932889916, -122.413935404044)</td>\n",
       "    </tr>\n",
       "  </tbody>\n",
       "</table>\n",
       "</div>"
      ],
      "text/plain": [
       "   IncidntNum         Category                               Descript  \\\n",
       "0   110308742   MISSING PERSON                           FOUND PERSON   \n",
       "1    90316914         WARRANTS                         WARRANT ARREST   \n",
       "2   130132311  SECONDARY CODES                      DOMESTIC VIOLENCE   \n",
       "3    80052833   OTHER OFFENSES  DRIVERS LICENSE, SUSPENDED OR REVOKED   \n",
       "4    70535770  SECONDARY CODES                      DOMESTIC VIOLENCE   \n",
       "\n",
       "  DayOfWeek        Date   Time PdDistrict      Resolution  \\\n",
       "0    Friday  04/15/2011  16:00    TARAVAL         LOCATED   \n",
       "1  Thursday  03/26/2009  12:28   SOUTHERN  ARREST, BOOKED   \n",
       "2    Friday  02/15/2013  02:00       PARK  ARREST, BOOKED   \n",
       "3   Tuesday  01/15/2008  20:13    MISSION   ARREST, CITED   \n",
       "4  Saturday  05/26/2007  18:10    MISSION  ARREST, BOOKED   \n",
       "\n",
       "                   Address           X          Y  \\\n",
       "0     0 Block of CRESPI DR -122.476328  37.719687   \n",
       "1  1000 Block of MARKET ST -122.411340  37.781271   \n",
       "2    CASTRO ST / MARKET ST -122.435188  37.762670   \n",
       "3    VALENCIA ST / 16TH ST -122.421886  37.764918   \n",
       "4  2800 Block of FOLSOM ST -122.413935  37.751693   \n",
       "\n",
       "                                Location  \n",
       "0  (37.7196874952717, -122.476327815126)  \n",
       "1  (37.7812707434494, -122.411339562557)  \n",
       "2  (37.7626702770872, -122.435187699349)  \n",
       "3  (37.7649178909424, -122.421886357981)  \n",
       "4  (37.7516932889916, -122.413935404044)  "
      ]
     },
     "execution_count": 3,
     "metadata": {},
     "output_type": "execute_result"
    }
   ],
   "source": [
    "## Datos de crimenes\n",
    "#df_raw=pd.read_csv('https://data.sfgov.org/api/views/q6gg-sa2p/rows.csv?accessType=DOWNLOAD')\n",
    "df_raw=pd.read_csv('data/raw_data_crimes.csv')\n",
    "df_raw.head()"
   ]
  },
  {
   "cell_type": "code",
   "execution_count": 4,
   "metadata": {},
   "outputs": [],
   "source": [
    "#df_raw.to_csv('data/raw_data_crimes.csv', index=False)"
   ]
  },
  {
   "cell_type": "code",
   "execution_count": 5,
   "metadata": {},
   "outputs": [
    {
     "data": {
      "text/plain": [
       "Index(['IncidntNum', 'Category', 'Descript', 'DayOfWeek', 'Date', 'Time',\n",
       "       'PdDistrict', 'Resolution', 'Address', 'X', 'Y', 'Location'],\n",
       "      dtype='object')"
      ]
     },
     "execution_count": 5,
     "metadata": {},
     "output_type": "execute_result"
    }
   ],
   "source": [
    "df_raw.columns"
   ]
  },
  {
   "cell_type": "code",
   "execution_count": 6,
   "metadata": {},
   "outputs": [
    {
     "data": {
      "text/plain": [
       "(2215024, 12)"
      ]
     },
     "execution_count": 6,
     "metadata": {},
     "output_type": "execute_result"
    }
   ],
   "source": [
    "df_raw.shape"
   ]
  },
  {
   "cell_type": "code",
   "execution_count": 7,
   "metadata": {},
   "outputs": [
    {
     "data": {
      "text/plain": [
       "IncidntNum    0\n",
       "Category      0\n",
       "Descript      0\n",
       "DayOfWeek     0\n",
       "Date          0\n",
       "Time          0\n",
       "PdDistrict    1\n",
       "Resolution    0\n",
       "Address       0\n",
       "X             0\n",
       "Y             0\n",
       "Location      0\n",
       "dtype: int64"
      ]
     },
     "execution_count": 7,
     "metadata": {},
     "output_type": "execute_result"
    }
   ],
   "source": [
    "df_raw.isna().sum()"
   ]
  },
  {
   "cell_type": "code",
   "execution_count": 8,
   "metadata": {},
   "outputs": [
    {
     "data": {
      "text/html": [
       "<div>\n",
       "<style scoped>\n",
       "    .dataframe tbody tr th:only-of-type {\n",
       "        vertical-align: middle;\n",
       "    }\n",
       "\n",
       "    .dataframe tbody tr th {\n",
       "        vertical-align: top;\n",
       "    }\n",
       "\n",
       "    .dataframe thead th {\n",
       "        text-align: right;\n",
       "    }\n",
       "</style>\n",
       "<table border=\"1\" class=\"dataframe\">\n",
       "  <thead>\n",
       "    <tr style=\"text-align: right;\">\n",
       "      <th></th>\n",
       "      <th>IncidntNum</th>\n",
       "      <th>X</th>\n",
       "      <th>Y</th>\n",
       "    </tr>\n",
       "  </thead>\n",
       "  <tbody>\n",
       "    <tr>\n",
       "      <th>count</th>\n",
       "      <td>2.215024e+06</td>\n",
       "      <td>2.215024e+06</td>\n",
       "      <td>2.215024e+06</td>\n",
       "    </tr>\n",
       "    <tr>\n",
       "      <th>mean</th>\n",
       "      <td>1.040728e+08</td>\n",
       "      <td>-1.224229e+02</td>\n",
       "      <td>3.777076e+01</td>\n",
       "    </tr>\n",
       "    <tr>\n",
       "      <th>std</th>\n",
       "      <td>4.612827e+07</td>\n",
       "      <td>2.983459e-02</td>\n",
       "      <td>4.203596e-01</td>\n",
       "    </tr>\n",
       "    <tr>\n",
       "      <th>min</th>\n",
       "      <td>3.979000e+03</td>\n",
       "      <td>-1.225136e+02</td>\n",
       "      <td>3.770788e+01</td>\n",
       "    </tr>\n",
       "    <tr>\n",
       "      <th>25%</th>\n",
       "      <td>6.124170e+07</td>\n",
       "      <td>-1.224332e+02</td>\n",
       "      <td>3.775302e+01</td>\n",
       "    </tr>\n",
       "    <tr>\n",
       "      <th>50%</th>\n",
       "      <td>1.011558e+08</td>\n",
       "      <td>-1.224166e+02</td>\n",
       "      <td>3.777542e+01</td>\n",
       "    </tr>\n",
       "    <tr>\n",
       "      <th>75%</th>\n",
       "      <td>1.409256e+08</td>\n",
       "      <td>-1.224069e+02</td>\n",
       "      <td>3.778448e+01</td>\n",
       "    </tr>\n",
       "    <tr>\n",
       "      <th>max</th>\n",
       "      <td>9.915824e+08</td>\n",
       "      <td>-1.205000e+02</td>\n",
       "      <td>9.000000e+01</td>\n",
       "    </tr>\n",
       "  </tbody>\n",
       "</table>\n",
       "</div>"
      ],
      "text/plain": [
       "         IncidntNum             X             Y\n",
       "count  2.215024e+06  2.215024e+06  2.215024e+06\n",
       "mean   1.040728e+08 -1.224229e+02  3.777076e+01\n",
       "std    4.612827e+07  2.983459e-02  4.203596e-01\n",
       "min    3.979000e+03 -1.225136e+02  3.770788e+01\n",
       "25%    6.124170e+07 -1.224332e+02  3.775302e+01\n",
       "50%    1.011558e+08 -1.224166e+02  3.777542e+01\n",
       "75%    1.409256e+08 -1.224069e+02  3.778448e+01\n",
       "max    9.915824e+08 -1.205000e+02  9.000000e+01"
      ]
     },
     "execution_count": 8,
     "metadata": {},
     "output_type": "execute_result"
    }
   ],
   "source": [
    "df_raw.describe()"
   ]
  },
  {
   "cell_type": "code",
   "execution_count": 9,
   "metadata": {},
   "outputs": [
    {
     "name": "stdout",
     "output_type": "stream",
     "text": [
      "<class 'pandas.core.frame.DataFrame'>\n",
      "RangeIndex: 2215024 entries, 0 to 2215023\n",
      "Data columns (total 12 columns):\n",
      "IncidntNum    int64\n",
      "Category      object\n",
      "Descript      object\n",
      "DayOfWeek     object\n",
      "Date          object\n",
      "Time          object\n",
      "PdDistrict    object\n",
      "Resolution    object\n",
      "Address       object\n",
      "X             float64\n",
      "Y             float64\n",
      "Location      object\n",
      "dtypes: float64(2), int64(1), object(9)\n",
      "memory usage: 1.4 GB\n"
     ]
    }
   ],
   "source": [
    "df_raw.info(memory_usage='deep')"
   ]
  },
  {
   "cell_type": "code",
   "execution_count": 10,
   "metadata": {},
   "outputs": [
    {
     "data": {
      "text/html": [
       "<div>\n",
       "<style scoped>\n",
       "    .dataframe tbody tr th:only-of-type {\n",
       "        vertical-align: middle;\n",
       "    }\n",
       "\n",
       "    .dataframe tbody tr th {\n",
       "        vertical-align: top;\n",
       "    }\n",
       "\n",
       "    .dataframe thead th {\n",
       "        text-align: right;\n",
       "    }\n",
       "</style>\n",
       "<table border=\"1\" class=\"dataframe\">\n",
       "  <thead>\n",
       "    <tr style=\"text-align: right;\">\n",
       "      <th></th>\n",
       "      <th>Category</th>\n",
       "      <th>DayOfWeek</th>\n",
       "      <th>Date</th>\n",
       "      <th>Time</th>\n",
       "      <th>Longitude</th>\n",
       "      <th>Latitude</th>\n",
       "    </tr>\n",
       "  </thead>\n",
       "  <tbody>\n",
       "    <tr>\n",
       "      <th>0</th>\n",
       "      <td>MISSING PERSON</td>\n",
       "      <td>Friday</td>\n",
       "      <td>04/15/2011</td>\n",
       "      <td>16:00</td>\n",
       "      <td>-122.476328</td>\n",
       "      <td>37.719687</td>\n",
       "    </tr>\n",
       "    <tr>\n",
       "      <th>1</th>\n",
       "      <td>WARRANTS</td>\n",
       "      <td>Thursday</td>\n",
       "      <td>03/26/2009</td>\n",
       "      <td>12:28</td>\n",
       "      <td>-122.411340</td>\n",
       "      <td>37.781271</td>\n",
       "    </tr>\n",
       "    <tr>\n",
       "      <th>2</th>\n",
       "      <td>SECONDARY CODES</td>\n",
       "      <td>Friday</td>\n",
       "      <td>02/15/2013</td>\n",
       "      <td>02:00</td>\n",
       "      <td>-122.435188</td>\n",
       "      <td>37.762670</td>\n",
       "    </tr>\n",
       "    <tr>\n",
       "      <th>3</th>\n",
       "      <td>OTHER OFFENSES</td>\n",
       "      <td>Tuesday</td>\n",
       "      <td>01/15/2008</td>\n",
       "      <td>20:13</td>\n",
       "      <td>-122.421886</td>\n",
       "      <td>37.764918</td>\n",
       "    </tr>\n",
       "    <tr>\n",
       "      <th>4</th>\n",
       "      <td>SECONDARY CODES</td>\n",
       "      <td>Saturday</td>\n",
       "      <td>05/26/2007</td>\n",
       "      <td>18:10</td>\n",
       "      <td>-122.413935</td>\n",
       "      <td>37.751693</td>\n",
       "    </tr>\n",
       "  </tbody>\n",
       "</table>\n",
       "</div>"
      ],
      "text/plain": [
       "          Category DayOfWeek        Date   Time   Longitude   Latitude\n",
       "0   MISSING PERSON    Friday  04/15/2011  16:00 -122.476328  37.719687\n",
       "1         WARRANTS  Thursday  03/26/2009  12:28 -122.411340  37.781271\n",
       "2  SECONDARY CODES    Friday  02/15/2013  02:00 -122.435188  37.762670\n",
       "3   OTHER OFFENSES   Tuesday  01/15/2008  20:13 -122.421886  37.764918\n",
       "4  SECONDARY CODES  Saturday  05/26/2007  18:10 -122.413935  37.751693"
      ]
     },
     "execution_count": 10,
     "metadata": {},
     "output_type": "execute_result"
    }
   ],
   "source": [
    "# seleccion y limpieza de datos\n",
    "\n",
    "df=df_raw[['Category', 'DayOfWeek', 'Date', 'Time', 'X', 'Y']]\n",
    "df.columns=['Category', 'DayOfWeek', 'Date', 'Time', 'Longitude', 'Latitude']\n",
    "\n",
    "df=df.dropna()\n",
    "df.head()"
   ]
  },
  {
   "cell_type": "code",
   "execution_count": 11,
   "metadata": {},
   "outputs": [
    {
     "data": {
      "text/plain": [
       "LARCENY/THEFT                  480448\n",
       "OTHER OFFENSES                 309358\n",
       "NON-CRIMINAL                   238323\n",
       "ASSAULT                        194694\n",
       "VEHICLE THEFT                  126602\n",
       "DRUG/NARCOTIC                  119628\n",
       "VANDALISM                      116059\n",
       "WARRANTS                       101379\n",
       "BURGLARY                        91543\n",
       "SUSPICIOUS OCC                  80444\n",
       "MISSING PERSON                  64961\n",
       "ROBBERY                         55867\n",
       "FRAUD                           41542\n",
       "SECONDARY CODES                 25831\n",
       "FORGERY/COUNTERFEITING          23050\n",
       "WEAPON LAWS                     22234\n",
       "TRESPASS                        19449\n",
       "PROSTITUTION                    16701\n",
       "STOLEN PROPERTY                 11891\n",
       "SEX OFFENSES, FORCIBLE          11742\n",
       "DISORDERLY CONDUCT              10040\n",
       "DRUNKENNESS                      9826\n",
       "RECOVERED VEHICLE                8716\n",
       "DRIVING UNDER THE INFLUENCE      5672\n",
       "KIDNAPPING                       5346\n",
       "RUNAWAY                          4440\n",
       "LIQUOR LAWS                      4083\n",
       "ARSON                            3931\n",
       "EMBEZZLEMENT                     2988\n",
       "LOITERING                        2430\n",
       "SUICIDE                          1292\n",
       "FAMILY OFFENSES                  1183\n",
       "BAD CHECKS                        925\n",
       "BRIBERY                           813\n",
       "EXTORTION                         741\n",
       "SEX OFFENSES, NON FORCIBLE        431\n",
       "GAMBLING                          348\n",
       "PORNOGRAPHY/OBSCENE MAT            59\n",
       "TREA                               14\n",
       "Name: Category, dtype: int64"
      ]
     },
     "execution_count": 11,
     "metadata": {},
     "output_type": "execute_result"
    }
   ],
   "source": [
    "# exploracion\n",
    "\n",
    "df.Category.value_counts()"
   ]
  },
  {
   "cell_type": "code",
   "execution_count": 12,
   "metadata": {},
   "outputs": [
    {
     "data": {
      "text/html": [
       "<div>\n",
       "<style scoped>\n",
       "    .dataframe tbody tr th:only-of-type {\n",
       "        vertical-align: middle;\n",
       "    }\n",
       "\n",
       "    .dataframe tbody tr th {\n",
       "        vertical-align: top;\n",
       "    }\n",
       "\n",
       "    .dataframe thead th {\n",
       "        text-align: right;\n",
       "    }\n",
       "</style>\n",
       "<table border=\"1\" class=\"dataframe\">\n",
       "  <thead>\n",
       "    <tr style=\"text-align: right;\">\n",
       "      <th></th>\n",
       "      <th>Category</th>\n",
       "      <th>DayOfWeek</th>\n",
       "      <th>Date</th>\n",
       "      <th>Time</th>\n",
       "      <th>Longitude</th>\n",
       "      <th>Latitude</th>\n",
       "    </tr>\n",
       "  </thead>\n",
       "  <tbody>\n",
       "    <tr>\n",
       "      <th>0</th>\n",
       "      <td>MISSING PERSON</td>\n",
       "      <td>Friday</td>\n",
       "      <td>04/15/2011</td>\n",
       "      <td>16:00</td>\n",
       "      <td>-122.476328</td>\n",
       "      <td>37.719687</td>\n",
       "    </tr>\n",
       "    <tr>\n",
       "      <th>1</th>\n",
       "      <td>WARRANTS</td>\n",
       "      <td>Thursday</td>\n",
       "      <td>03/26/2009</td>\n",
       "      <td>12:28</td>\n",
       "      <td>-122.411340</td>\n",
       "      <td>37.781271</td>\n",
       "    </tr>\n",
       "    <tr>\n",
       "      <th>2</th>\n",
       "      <td>SECONDARY CODES</td>\n",
       "      <td>Friday</td>\n",
       "      <td>02/15/2013</td>\n",
       "      <td>02:00</td>\n",
       "      <td>-122.435188</td>\n",
       "      <td>37.762670</td>\n",
       "    </tr>\n",
       "    <tr>\n",
       "      <th>3</th>\n",
       "      <td>OTHER OFFENSES</td>\n",
       "      <td>Tuesday</td>\n",
       "      <td>01/15/2008</td>\n",
       "      <td>20:13</td>\n",
       "      <td>-122.421886</td>\n",
       "      <td>37.764918</td>\n",
       "    </tr>\n",
       "    <tr>\n",
       "      <th>4</th>\n",
       "      <td>SECONDARY CODES</td>\n",
       "      <td>Saturday</td>\n",
       "      <td>05/26/2007</td>\n",
       "      <td>18:10</td>\n",
       "      <td>-122.413935</td>\n",
       "      <td>37.751693</td>\n",
       "    </tr>\n",
       "  </tbody>\n",
       "</table>\n",
       "</div>"
      ],
      "text/plain": [
       "          Category DayOfWeek        Date   Time   Longitude   Latitude\n",
       "0   MISSING PERSON    Friday  04/15/2011  16:00 -122.476328  37.719687\n",
       "1         WARRANTS  Thursday  03/26/2009  12:28 -122.411340  37.781271\n",
       "2  SECONDARY CODES    Friday  02/15/2013  02:00 -122.435188  37.762670\n",
       "3   OTHER OFFENSES   Tuesday  01/15/2008  20:13 -122.421886  37.764918\n",
       "4  SECONDARY CODES  Saturday  05/26/2007  18:10 -122.413935  37.751693"
      ]
     },
     "execution_count": 12,
     "metadata": {},
     "output_type": "execute_result"
    }
   ],
   "source": [
    "df.head()"
   ]
  },
  {
   "cell_type": "markdown",
   "metadata": {},
   "source": [
    "### Reclasificacion en 4 grupos"
   ]
  },
  {
   "cell_type": "code",
   "execution_count": 13,
   "metadata": {},
   "outputs": [],
   "source": [
    "# grupos por tipos\n",
    "THEFT=['LARCENY/THEFT', 'VEHICLE THEFT', 'BURGLARY', 'ROBBERY', 'STOLEN PROPERTY']\n",
    "\n",
    "\n",
    "IMPAIRED=['DRUNKENNESS', 'DRIVING UNDER THE INFLUENCE', 'LIQUOR LAWS', \n",
    "          'DISORDERLY CONDUCT', 'DRUG/NARCOTIC', 'LOITERING']\n",
    "\n",
    "\n",
    "VIOLENCE=['ASSAULT', 'VANDALISM', 'SUSPICIOUS OCC', 'TRESPASS', 'SEX OFFENSES, FORCIBLE' , \n",
    "          'SEX OFFENSES, NON FORCIBLE'] \n",
    "\n",
    "\n",
    "OTHER=['OTHER OFFENSES', 'NON-CRIMINAL']"
   ]
  },
  {
   "cell_type": "code",
   "execution_count": 14,
   "metadata": {},
   "outputs": [],
   "source": [
    "CATEGORIAS=THEFT+IMPAIRED+VIOLENCE+OTHER\n",
    "\n",
    "\n",
    "df=df[df.Category.isin(CATEGORIAS)] "
   ]
  },
  {
   "cell_type": "code",
   "execution_count": 15,
   "metadata": {},
   "outputs": [
    {
     "data": {
      "text/plain": [
       "THEFT       766351\n",
       "OTHER       547681\n",
       "VIOLENCE    422819\n",
       "IMPAIRED    151679\n",
       "Name: CAT, dtype: int64"
      ]
     },
     "execution_count": 15,
     "metadata": {},
     "output_type": "execute_result"
    }
   ],
   "source": [
    "# creacion de nuevos supergrupos\n",
    "\n",
    "selecciones=[(df.Category.isin(THEFT)), (df.Category.isin(IMPAIRED)),\n",
    "             (df.Category.isin(VIOLENCE)), (df.Category.isin(OTHER))] \n",
    "\n",
    "\n",
    "nuevas_cat=['THEFT', 'IMPAIRED', 'VIOLENCE', 'OTHER']\n",
    "\n",
    "\n",
    "df['CAT']=np.select(selecciones, nuevas_cat, default='OTHER')\n",
    "\n",
    "\n",
    "df.CAT.value_counts()"
   ]
  },
  {
   "cell_type": "markdown",
   "metadata": {},
   "source": [
    "## Plots"
   ]
  },
  {
   "cell_type": "markdown",
   "metadata": {},
   "source": [
    "### por dia de la semana"
   ]
  },
  {
   "cell_type": "code",
   "execution_count": 16,
   "metadata": {},
   "outputs": [
    {
     "data": {
      "image/png": "[encoded data removed]",
      "text/plain": [
       "<Figure size 864x720 with 4 Axes>"
      ]
     },
     "metadata": {
      "needs_background": "light"
     },
     "output_type": "display_data"
    }
   ],
   "source": [
    "plt.figure(figsize=(12,10))\n",
    "for i in range(1,5):\n",
    "    plt.subplot(2,2,i)\n",
    "    df_tmp=df[df.CAT==nuevas_cat[i-1]]\n",
    "    \n",
    "    df_tmp.DayOfWeek.value_counts(sort=False).plot(kind='bar', color=['r','g','b','c','m','y','violet'])\n",
    "    plt.title('Categoria: {}'.format(nuevas_cat[i-1]))\n",
    "    if i<=2:\n",
    "        plt.xticks([])\n",
    "    else:\n",
    "        plt.xticks(rotation=45)"
   ]
  },
  {
   "cell_type": "markdown",
   "metadata": {},
   "source": [
    "### por dia del mes"
   ]
  },
  {
   "cell_type": "code",
   "execution_count": 17,
   "metadata": {},
   "outputs": [
    {
     "data": {
      "text/html": [
       "<div>\n",
       "<style scoped>\n",
       "    .dataframe tbody tr th:only-of-type {\n",
       "        vertical-align: middle;\n",
       "    }\n",
       "\n",
       "    .dataframe tbody tr th {\n",
       "        vertical-align: top;\n",
       "    }\n",
       "\n",
       "    .dataframe thead th {\n",
       "        text-align: right;\n",
       "    }\n",
       "</style>\n",
       "<table border=\"1\" class=\"dataframe\">\n",
       "  <thead>\n",
       "    <tr style=\"text-align: right;\">\n",
       "      <th></th>\n",
       "      <th>Month_of_year</th>\n",
       "    </tr>\n",
       "  </thead>\n",
       "  <tbody>\n",
       "    <tr>\n",
       "      <th>1</th>\n",
       "      <td>167666</td>\n",
       "    </tr>\n",
       "    <tr>\n",
       "      <th>2</th>\n",
       "      <td>151502</td>\n",
       "    </tr>\n",
       "    <tr>\n",
       "      <th>3</th>\n",
       "      <td>168126</td>\n",
       "    </tr>\n",
       "    <tr>\n",
       "      <th>4</th>\n",
       "      <td>161556</td>\n",
       "    </tr>\n",
       "    <tr>\n",
       "      <th>5</th>\n",
       "      <td>159885</td>\n",
       "    </tr>\n",
       "    <tr>\n",
       "      <th>6</th>\n",
       "      <td>148957</td>\n",
       "    </tr>\n",
       "    <tr>\n",
       "      <th>7</th>\n",
       "      <td>155609</td>\n",
       "    </tr>\n",
       "    <tr>\n",
       "      <th>8</th>\n",
       "      <td>160499</td>\n",
       "    </tr>\n",
       "    <tr>\n",
       "      <th>9</th>\n",
       "      <td>156831</td>\n",
       "    </tr>\n",
       "    <tr>\n",
       "      <th>10</th>\n",
       "      <td>162538</td>\n",
       "    </tr>\n",
       "    <tr>\n",
       "      <th>11</th>\n",
       "      <td>149342</td>\n",
       "    </tr>\n",
       "    <tr>\n",
       "      <th>12</th>\n",
       "      <td>146019</td>\n",
       "    </tr>\n",
       "  </tbody>\n",
       "</table>\n",
       "</div>"
      ],
      "text/plain": [
       "    Month_of_year\n",
       "1          167666\n",
       "2          151502\n",
       "3          168126\n",
       "4          161556\n",
       "5          159885\n",
       "6          148957\n",
       "7          155609\n",
       "8          160499\n",
       "9          156831\n",
       "10         162538\n",
       "11         149342\n",
       "12         146019"
      ]
     },
     "execution_count": 17,
     "metadata": {},
     "output_type": "execute_result"
    }
   ],
   "source": [
    "df['Day_of_month']=[int(e.split('/')[1]) for e in df.Date]\n",
    "\n",
    "df['Month_of_year']=[int(e.split('/')[0]) for e in df.Date]\n",
    "\n",
    "df_por_mes=pd.DataFrame(df.Month_of_year.value_counts())\n",
    "df_por_mes=df_por_mes.sort_index()\n",
    "df_por_mes"
   ]
  },
  {
   "cell_type": "code",
   "execution_count": 18,
   "metadata": {},
   "outputs": [
    {
     "data": {
      "image/png": "[encoded data removed]",
      "text/plain": [
       "<Figure size 1008x576 with 1 Axes>"
      ]
     },
     "metadata": {
      "needs_background": "light"
     },
     "output_type": "display_data"
    }
   ],
   "source": [
    "meses=['Jan','Feb','Mar','Apr','Ma','Jun','Jul','Aug','Sept','Oct','Nov','Dec']\n",
    "\n",
    "plt.figure(figsize=(14,8))\n",
    "plt.barh(df_por_mes.index, df_por_mes.Month_of_year, align='center', alpha=0.5)\n",
    "plt.yticks(df_por_mes.index, meses)\n",
    "plt.xlabel('Crimenes')\n",
    "plt.title('Crimenes totales por mes');"
   ]
  },
  {
   "cell_type": "code",
   "execution_count": 19,
   "metadata": {},
   "outputs": [
    {
     "data": {
      "image/png": "[encoded data removed]",
      "text/plain": [
       "<Figure size 864x720 with 4 Axes>"
      ]
     },
     "metadata": {
      "needs_background": "light"
     },
     "output_type": "display_data"
    }
   ],
   "source": [
    "plt.figure(figsize=(12,10))\n",
    "for i in range(1,5):\n",
    "    plt.subplot(2,2,i)\n",
    "    df_por_mes=df[df.CAT==nuevas_cat[i-1]]\n",
    "    df_por_mes=pd.DataFrame(df.Month_of_year.value_counts())\n",
    "    df_por_mes=df_por_mes.sort_index()\n",
    "    \n",
    "    plt.barh(df_por_mes.index, df_por_mes.Month_of_year, align='center', alpha=0.5, color=['r','g','b','c','m','y','violet'])\n",
    "    plt.title('Categoria: {}'.format(nuevas_cat[i-1]))\n",
    "    plt.yticks(df_por_mes.index, meses)\n",
    "    if i<=2:\n",
    "        plt.xticks([])\n",
    "    else:\n",
    "        plt.xticks(rotation=45)"
   ]
  },
  {
   "cell_type": "markdown",
   "metadata": {},
   "source": [
    "### geomapa"
   ]
  },
  {
   "cell_type": "code",
   "execution_count": 20,
   "metadata": {},
   "outputs": [
    {
     "data": {
      "text/plain": [
       "count    1.704269e+06\n",
       "mean     3.776727e+01\n",
       "std      2.252819e-02\n",
       "min      3.770788e+01\n",
       "25%      3.775544e+01\n",
       "50%      3.777542e+01\n",
       "75%      3.778396e+01\n",
       "max      3.779944e+01\n",
       "Name: Latitude, dtype: float64"
      ]
     },
     "execution_count": 20,
     "metadata": {},
     "output_type": "execute_result"
    }
   ],
   "source": [
    "# remove edge coordinates / outliers \n",
    "q=df.Longitude.quantile(0.95)\n",
    "df=df[df.Longitude<q]\n",
    "\n",
    "\n",
    "q=df.Latitude.quantile(0.95)\n",
    "df=df[df.Latitude<q]\n",
    "\n",
    "\n",
    "df.Latitude.describe()"
   ]
  },
  {
   "cell_type": "code",
   "execution_count": 21,
   "metadata": {},
   "outputs": [
    {
     "data": {
      "image/png": "[encoded data removed]",
      "text/plain": [
       "<Figure size 432x288 with 1 Axes>"
      ]
     },
     "metadata": {
      "needs_background": "light"
     },
     "output_type": "display_data"
    }
   ],
   "source": [
    "plt.plot(df.Longitude.head(50000), \n",
    "         df.Latitude.head(50000),\n",
    "         linestyle='none', marker='.')\n",
    "\n",
    "\n",
    "plt.suptitle('Crimenes por Latitud y Longitud')\n",
    "plt.xlabel('Longitud')\n",
    "plt.ylabel('Latitud');"
   ]
  },
  {
   "cell_type": "code",
   "execution_count": 22,
   "metadata": {},
   "outputs": [
    {
     "data": {
      "image/png": "[encoded data removed]",
      "text/plain": [
       "<Figure size 432x288 with 1 Axes>"
      ]
     },
     "metadata": {
      "needs_background": "light"
     },
     "output_type": "display_data"
    }
   ],
   "source": [
    "df.Longitude=np.round(df.Longitude,3)\n",
    "df.Latitude=np.round(df.Latitude,3)\n",
    "\n",
    "df.Longitude.head(2000).hist();"
   ]
  },
  {
   "cell_type": "markdown",
   "metadata": {},
   "source": [
    "### segmentos temporales (AM, PM, noche)"
   ]
  },
  {
   "cell_type": "code",
   "execution_count": 23,
   "metadata": {},
   "outputs": [
    {
     "data": {
      "text/plain": [
       "2    597050\n",
       "1    586101\n",
       "0    521118\n",
       "Name: Day_Segment, dtype: int64"
      ]
     },
     "execution_count": 23,
     "metadata": {},
     "output_type": "execute_result"
    }
   ],
   "source": [
    "# crear AM, AFT, NT\n",
    "df['Hour']=[int(e.split(':')[0]) for e in df.Time]\n",
    "\n",
    "\n",
    "# nuevos supergrupos\n",
    "selecciones=[(df.Hour>5) & (df.Hour<=13),\n",
    "             (df.Hour>13) & (df.Hour<=19),\n",
    "             (df.Hour>18) & (df.Hour<=5)] \n",
    "\n",
    "\n",
    "\n",
    "n_cat=[0, 1, 2] # ['AM', 'AFT', 'NIT']\n",
    "\n",
    "\n",
    "\n",
    "df['Day_Segment']=np.select(selecciones, n_cat, default=2)\n",
    "df['Day_Segment'].value_counts()"
   ]
  },
  {
   "cell_type": "code",
   "execution_count": 24,
   "metadata": {},
   "outputs": [
    {
     "data": {
      "image/png": "[encoded data removed]",
      "text/plain": [
       "<Figure size 1152x720 with 4 Axes>"
      ]
     },
     "metadata": {
      "needs_background": "light"
     },
     "output_type": "display_data"
    }
   ],
   "source": [
    "segmentos=['AM','AFT','NIT']\n",
    "\n",
    "\n",
    "\n",
    "\n",
    "plt.figure(figsize=(16,10))\n",
    "for i in range(1,5):\n",
    "    plt.subplot(2,2,i)\n",
    "    df_por_seg=df[df.CAT==nuevas_cat[i-1]]\n",
    "    df_por_seg=pd.DataFrame(df.Day_Segment.value_counts())\n",
    "    df_por_seg=df_por_seg.sort_index()\n",
    "    \n",
    "    plt.barh(df_por_seg.index, df_por_seg.Day_Segment, align='center', alpha=0.5, color=['r','g','b','c','m','y','violet'])\n",
    "    plt.title('Categoria: {}'.format(nuevas_cat[i-1]))\n",
    "    plt.yticks(df_por_seg.index, segmentos)\n",
    "    \n",
    "    if i<=2:\n",
    "        plt.xticks([])\n",
    "    else:\n",
    "        plt.xticks(rotation=45)\n",
    "        plt.xlabel('Crimenes')"
   ]
  },
  {
   "cell_type": "code",
   "execution_count": null,
   "metadata": {},
   "outputs": [],
   "source": []
  },
  {
   "cell_type": "code",
   "execution_count": null,
   "metadata": {},
   "outputs": [],
   "source": []
  },
  {
   "cell_type": "code",
   "execution_count": null,
   "metadata": {},
   "outputs": [],
   "source": []
  }
 ],
 "metadata": {
  "kernelspec": {
   "display_name": "Python 3",
   "language": "python",
   "name": "python3"
  },
  "language_info": {
   "codemirror_mode": {
    "name": "ipython",
    "version": 3
   },
   "file_extension": ".py",
   "mimetype": "text/x-python",
   "name": "python",
   "nbconvert_exporter": "python",
   "pygments_lexer": "ipython3",
   "version": "3.7.6"
  }
 },
 "nbformat": 4,
 "nbformat_minor": 2
}
