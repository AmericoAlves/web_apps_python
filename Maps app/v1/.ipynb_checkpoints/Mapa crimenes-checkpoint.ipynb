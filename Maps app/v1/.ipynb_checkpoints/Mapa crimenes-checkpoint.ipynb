{
 "cells": [
  {
   "cell_type": "markdown",
   "metadata": {},
   "source": [
    "# Usando Google Maps para predecir crimenes\n",
    "\n",
    "**Ciudad : San Franscisco**"
   ]
  },
  {
   "cell_type": "code",
   "execution_count": null,
   "metadata": {},
   "outputs": [],
   "source": [
    "import warnings\n",
    "warnings.simplefilter('ignore')"
   ]
  },
  {
   "cell_type": "code",
   "execution_count": null,
   "metadata": {},
   "outputs": [],
   "source": [
    "# librerias\n",
    "\n",
    "import numpy as np \n",
    "import pandas as pd \n",
    "import datetime\n",
    "import urllib\n",
    "import matplotlib.pyplot as plt"
   ]
  },
  {
   "cell_type": "code",
   "execution_count": null,
   "metadata": {},
   "outputs": [],
   "source": [
    "## Datos de crimenes\n",
    "#df_raw=pd.read_csv('https://data.sfgov.org/api/views/q6gg-sa2p/rows.csv?accessType=DOWNLOAD')\n",
    "df_raw=pd.read_csv('data/raw_data_crimes.csv')\n",
    "df_raw.head()"
   ]
  },
  {
   "cell_type": "code",
   "execution_count": null,
   "metadata": {},
   "outputs": [],
   "source": [
    "#df_raw.to_csv('data/raw_data_crimes.csv', index=False)"
   ]
  },
  {
   "cell_type": "code",
   "execution_count": null,
   "metadata": {},
   "outputs": [],
   "source": [
    "df_raw.columns"
   ]
  },
  {
   "cell_type": "code",
   "execution_count": null,
   "metadata": {},
   "outputs": [],
   "source": [
    "df_raw.shape"
   ]
  },
  {
   "cell_type": "code",
   "execution_count": null,
   "metadata": {},
   "outputs": [],
   "source": [
    "df_raw.isna().sum()"
   ]
  },
  {
   "cell_type": "code",
   "execution_count": null,
   "metadata": {},
   "outputs": [],
   "source": [
    "df_raw.describe()"
   ]
  },
  {
   "cell_type": "code",
   "execution_count": null,
   "metadata": {},
   "outputs": [],
   "source": [
    "df_raw.info(memory_usage='deep')"
   ]
  },
  {
   "cell_type": "code",
   "execution_count": null,
   "metadata": {},
   "outputs": [],
   "source": [
    "# seleccion y limpieza de datos\n",
    "\n",
    "df=df_raw[['Category', 'DayOfWeek', 'Date', 'Time', 'X', 'Y']]\n",
    "df.columns=['Category', 'DayOfWeek', 'Date', 'Time', 'Longitude', 'Latitude']\n",
    "\n",
    "df=df.dropna()\n",
    "df.head()"
   ]
  },
  {
   "cell_type": "code",
   "execution_count": null,
   "metadata": {},
   "outputs": [],
   "source": [
    "# exploracion\n",
    "\n",
    "df.Category.value_counts()"
   ]
  },
  {
   "cell_type": "code",
   "execution_count": null,
   "metadata": {},
   "outputs": [],
   "source": [
    "df.head()"
   ]
  },
  {
   "cell_type": "markdown",
   "metadata": {},
   "source": [
    "### Reclasificacion en 4 grupos"
   ]
  },
  {
   "cell_type": "code",
   "execution_count": null,
   "metadata": {},
   "outputs": [],
   "source": [
    "# grupos por tipos\n",
    "THEFT=['LARCENY/THEFT', 'VEHICLE THEFT', 'BURGLARY', 'ROBBERY', 'STOLEN PROPERTY']\n",
    "\n",
    "\n",
    "IMPAIRED=['DRUNKENNESS', 'DRIVING UNDER THE INFLUENCE', 'LIQUOR LAWS', \n",
    "          'DISORDERLY CONDUCT', 'DRUG/NARCOTIC', 'LOITERING']\n",
    "\n",
    "\n",
    "VIOLENCE=['ASSAULT', 'VANDALISM', 'SUSPICIOUS OCC', 'TRESPASS', 'SEX OFFENSES, FORCIBLE' , \n",
    "          'SEX OFFENSES, NON FORCIBLE'] \n",
    "\n",
    "\n",
    "OTHER=['OTHER OFFENSES', 'NON-CRIMINAL']"
   ]
  },
  {
   "cell_type": "code",
   "execution_count": null,
   "metadata": {},
   "outputs": [],
   "source": [
    "CATEGORIAS=THEFT+IMPAIRED+VIOLENCE+OTHER\n",
    "\n",
    "\n",
    "df=df[df.Category.isin(CATEGORIAS)] "
   ]
  },
  {
   "cell_type": "code",
   "execution_count": null,
   "metadata": {},
   "outputs": [],
   "source": [
    "# creacion de nuevos supergrupos\n",
    "\n",
    "selecciones=[(df.Category.isin(THEFT)), (df.Category.isin(IMPAIRED)),\n",
    "             (df.Category.isin(VIOLENCE)), (df.Category.isin(OTHER))] \n",
    "\n",
    "\n",
    "nuevas_cat=['THEFT', 'IMPAIRED', 'VIOLENCE', 'OTHER']\n",
    "\n",
    "\n",
    "df['CAT']=np.select(selecciones, nuevas_cat, default='OTHER')\n",
    "\n",
    "\n",
    "df.CAT.value_counts()"
   ]
  },
  {
   "cell_type": "markdown",
   "metadata": {},
   "source": [
    "## Plots"
   ]
  },
  {
   "cell_type": "markdown",
   "metadata": {},
   "source": [
    "### por dia de la semana"
   ]
  },
  {
   "cell_type": "code",
   "execution_count": null,
   "metadata": {},
   "outputs": [],
   "source": [
    "plt.figure(figsize=(12,10))\n",
    "for i in range(1,5):\n",
    "    plt.subplot(2,2,i)\n",
    "    df_tmp=df[df.CAT==nuevas_cat[i-1]]\n",
    "    \n",
    "    df_tmp.DayOfWeek.value_counts(sort=False).plot(kind='bar', color=['r','g','b','c','m','y','violet'])\n",
    "    plt.title('Categoria: {}'.format(nuevas_cat[i-1]))\n",
    "    if i<=2:\n",
    "        plt.xticks([])\n",
    "    else:\n",
    "        plt.xticks(rotation=45)"
   ]
  },
  {
   "cell_type": "markdown",
   "metadata": {},
   "source": [
    "### por dia del mes"
   ]
  },
  {
   "cell_type": "code",
   "execution_count": null,
   "metadata": {},
   "outputs": [],
   "source": [
    "df['Day_of_month']=[int(e.split('/')[1]) for e in df.Date]\n",
    "\n",
    "df['Month_of_year']=[int(e.split('/')[0]) for e in df.Date]\n",
    "\n",
    "df_por_mes=pd.DataFrame(df.Month_of_year.value_counts())\n",
    "df_por_mes=df_por_mes.sort_index()\n",
    "df_por_mes"
   ]
  },
  {
   "cell_type": "code",
   "execution_count": null,
   "metadata": {},
   "outputs": [],
   "source": [
    "meses=['Jan','Feb','Mar','Apr','Ma','Jun','Jul','Aug','Sept','Oct','Nov','Dec']\n",
    "\n",
    "plt.figure(figsize=(14,8))\n",
    "plt.barh(df_por_mes.index, df_por_mes.Month_of_year, align='center', alpha=0.5)\n",
    "plt.yticks(df_por_mes.index, meses)\n",
    "plt.xlabel('Crimenes')\n",
    "plt.title('Crimenes totales por mes');"
   ]
  },
  {
   "cell_type": "code",
   "execution_count": null,
   "metadata": {},
   "outputs": [],
   "source": [
    "plt.figure(figsize=(12,10))\n",
    "for i in range(1,5):\n",
    "    plt.subplot(2,2,i)\n",
    "    df_por_mes=df[df.CAT==nuevas_cat[i-1]]\n",
    "    df_por_mes=pd.DataFrame(df.Month_of_year.value_counts())\n",
    "    df_por_mes=df_por_mes.sort_index()\n",
    "    \n",
    "    plt.barh(df_por_mes.index, df_por_mes.Month_of_year, align='center', alpha=0.5, color=['r','g','b','c','m','y','violet'])\n",
    "    plt.title('Categoria: {}'.format(nuevas_cat[i-1]))\n",
    "    plt.yticks(df_por_mes.index, meses)\n",
    "    if i<=2:\n",
    "        plt.xticks([])\n",
    "    else:\n",
    "        plt.xticks(rotation=45)"
   ]
  },
  {
   "cell_type": "markdown",
   "metadata": {},
   "source": [
    "### geomapa"
   ]
  },
  {
   "cell_type": "code",
   "execution_count": null,
   "metadata": {},
   "outputs": [],
   "source": [
    "# remove edge coordinates / outliers \n",
    "q=df.Longitude.quantile(0.95)\n",
    "df=df[df.Longitude<q]\n",
    "\n",
    "\n",
    "q=df.Latitude.quantile(0.95)\n",
    "df=df[df.Latitude<q]\n",
    "\n",
    "\n",
    "df.Latitude.describe()"
   ]
  },
  {
   "cell_type": "code",
   "execution_count": null,
   "metadata": {},
   "outputs": [],
   "source": [
    "plt.plot(df.Longitude.head(50000), \n",
    "         df.Latitude.head(50000),\n",
    "         linestyle='none', marker='.')\n",
    "\n",
    "\n",
    "plt.suptitle('Crimenes por Latitud y Longitud')\n",
    "plt.xlabel('Longitud')\n",
    "plt.ylabel('Latitud');"
   ]
  },
  {
   "cell_type": "code",
   "execution_count": null,
   "metadata": {},
   "outputs": [],
   "source": [
    "df.Longitude=np.round(df.Longitude,3)\n",
    "df.Latitude=np.round(df.Latitude,3)\n",
    "\n",
    "df.Longitude.head(2000).hist();"
   ]
  },
  {
   "cell_type": "markdown",
   "metadata": {},
   "source": [
    "### segmentos temporales (AM, PM, noche)"
   ]
  },
  {
   "cell_type": "code",
   "execution_count": null,
   "metadata": {},
   "outputs": [],
   "source": [
    "# crear AM, AFT, NT\n",
    "df['Hour']=[int(e.split(':')[0]) for e in df.Time]\n",
    "\n",
    "\n",
    "# nuevos supergrupos\n",
    "selecciones=[(df.Hour>5) & (df.Hour<=13),\n",
    "             (df.Hour>13) & (df.Hour<=19),\n",
    "             (df.Hour>18) & (df.Hour<=5)] \n",
    "\n",
    "\n",
    "\n",
    "n_cat=[0, 1, 2] # ['AM', 'AFT', 'NIT']\n",
    "\n",
    "\n",
    "\n",
    "df['Day_Segment']=np.select(selecciones, n_cat, default=2)\n",
    "df['Day_Segment'].value_counts()"
   ]
  },
  {
   "cell_type": "code",
   "execution_count": null,
   "metadata": {},
   "outputs": [],
   "source": [
    "segmentos=['AM','AFT','NIT']\n",
    "\n",
    "\n",
    "\n",
    "\n",
    "plt.figure(figsize=(16,10))\n",
    "for i in range(1,5):\n",
    "    plt.subplot(2,2,i)\n",
    "    df_por_seg=df[df.CAT==nuevas_cat[i-1]]\n",
    "    df_por_seg=pd.DataFrame(df.Day_Segment.value_counts())\n",
    "    df_por_seg=df_por_seg.sort_index()\n",
    "    \n",
    "    plt.barh(df_por_seg.index, df_por_seg.Day_Segment, align='center', alpha=0.5, color=['r','g','b','c','m','y','violet'])\n",
    "    plt.title('Categoria: {}'.format(nuevas_cat[i-1]))\n",
    "    plt.yticks(df_por_seg.index, segmentos)\n",
    "    \n",
    "    if i<=2:\n",
    "        plt.xticks([])\n",
    "    else:\n",
    "        plt.xticks(rotation=45)\n",
    "        plt.xlabel('Crimenes')"
   ]
  },
  {
   "cell_type": "markdown",
   "metadata": {},
   "source": [
    "### Caracteristicas finales"
   ]
  },
  {
   "cell_type": "code",
   "execution_count": null,
   "metadata": {},
   "outputs": [],
   "source": [
    "df['Year']=[int(e.split('/')[2]) for e in df.Date]"
   ]
  },
  {
   "cell_type": "code",
   "execution_count": null,
   "metadata": {},
   "outputs": [],
   "source": [
    "df=df[['CAT', 'Day_of_month','Month_of_year', 'Day_Segment', 'Longitude', 'Latitude', 'Year']]\n",
    "\n",
    "df.head()"
   ]
  },
  {
   "cell_type": "code",
   "execution_count": null,
   "metadata": {},
   "outputs": [],
   "source": [
    "df['Count']=0\n",
    "\n",
    "df.head()"
   ]
  },
  {
   "cell_type": "code",
   "execution_count": null,
   "metadata": {},
   "outputs": [],
   "source": [
    "df_agg=df.groupby(['CAT', 'Day_of_month', 'Month_of_year',  'Day_Segment', \n",
    "                   'Longitude',  'Latitude', 'Year']).count().reset_index()\n",
    "\n",
    "#crime_df_agg.to_csv('data/sf-crime-horizon2.csv', index=None)\n",
    "\n",
    "df_agg.head()"
   ]
  },
  {
   "cell_type": "markdown",
   "metadata": {},
   "source": [
    "# Mapa Folium"
   ]
  },
  {
   "cell_type": "code",
   "execution_count": null,
   "metadata": {},
   "outputs": [],
   "source": [
    "import folium\n",
    "import folium.plugins as plugins"
   ]
  },
  {
   "cell_type": "code",
   "execution_count": null,
   "metadata": {},
   "outputs": [],
   "source": [
    "df_fo=df_raw[['Date', 'Time', 'X', 'Y']]\n",
    "df_fo.columns=['date', 'time', 'long', 'lat']\n",
    "\n",
    "df_fo=df_fo.dropna()\n",
    "df_fo.head()"
   ]
  },
  {
   "cell_type": "code",
   "execution_count": null,
   "metadata": {},
   "outputs": [],
   "source": [
    "df_folium=df_fo.sort_values(by=['date', 'time']).reset_index(drop=True)\n",
    "\n",
    "df_folium.head()"
   ]
  },
  {
   "cell_type": "code",
   "execution_count": null,
   "metadata": {},
   "outputs": [],
   "source": [
    "df_folium.info()"
   ]
  },
  {
   "cell_type": "raw",
   "metadata": {},
   "source": [
    "df_folium.date=pd.to_datetime(df_folium.date)\n",
    "\n",
    "\n",
    "data=[]\n",
    "\n",
    "for year in range(3, 10):\n",
    "    if year<9:\n",
    "        por_fecha=df_folium.loc[(df_folium.date >= '200{}-01-01'.format(year))&(df_folium.date < '200{}-01-01'.format(year+1))]\n",
    "    elif year==9:\n",
    "        por_fecha=df_folium.loc[(df_folium.date >= '200{}-01-01'.format(year))&(df_folium.date < '20{}-01-01'.format(year+1))]\n",
    "    else:\n",
    "        por_fecha=df_folium.loc[(df_folium.date >= '20{}-01-01'.format(year))&(df_folium.date < '20{}-01-01'.format(year+1))]\n",
    "        \n",
    "    lat=por_fecha.lat.to_list()\n",
    "    long=por_fecha.long.to_list()\n",
    "\n",
    "    data.append([[lat[i], long[i], 1] for i in range(len(lat))])"
   ]
  },
  {
   "cell_type": "code",
   "execution_count": null,
   "metadata": {},
   "outputs": [],
   "source": [
    "lat=df_folium.groupby('date')['lat'].apply(list)\n",
    "lng=df_folium.groupby('date')['long'].apply(list)\n",
    "\n",
    "data=[[lat[i], lng[i], 1] for i in range(len(lat))]"
   ]
  },
  {
   "cell_type": "code",
   "execution_count": null,
   "metadata": {},
   "outputs": [],
   "source": [
    "mapa=folium.Map([37.747146, -122.421899], tiles='stamentoner', zoom_start=15)\n",
    "\n",
    "heat=plugins.HeatMapWithTime(data)\n",
    "\n",
    "heat.add_to(mapa)\n",
    "\n",
    "mapa.save('folium_map.html')\n",
    "mapa"
   ]
  },
  {
   "cell_type": "code",
   "execution_count": null,
   "metadata": {},
   "outputs": [],
   "source": [
    "lat"
   ]
  },
  {
   "cell_type": "code",
   "execution_count": null,
   "metadata": {},
   "outputs": [],
   "source": [
    "df_folium.groupby('date').sum().sort_values(by=['date'])"
   ]
  },
  {
   "cell_type": "code",
   "execution_count": null,
   "metadata": {},
   "outputs": [],
   "source": []
  },
  {
   "cell_type": "code",
   "execution_count": null,
   "metadata": {},
   "outputs": [],
   "source": []
  },
  {
   "cell_type": "code",
   "execution_count": null,
   "metadata": {},
   "outputs": [],
   "source": []
  },
  {
   "cell_type": "code",
   "execution_count": null,
   "metadata": {},
   "outputs": [],
   "source": []
  }
 ],
 "metadata": {
  "kernelspec": {
   "display_name": "Python 3",
   "language": "python",
   "name": "python3"
  },
  "language_info": {
   "codemirror_mode": {
    "name": "ipython",
    "version": 3
   },
   "file_extension": ".py",
   "mimetype": "text/x-python",
   "name": "python",
   "nbconvert_exporter": "python",
   "pygments_lexer": "ipython3",
   "version": "3.7.6"
  }
 },
 "nbformat": 4,
 "nbformat_minor": 2
}
