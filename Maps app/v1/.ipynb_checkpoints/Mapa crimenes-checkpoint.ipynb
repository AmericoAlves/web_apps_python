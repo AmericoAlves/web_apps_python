{
 "cells": [
  {
   "cell_type": "markdown",
   "metadata": {},
   "source": [
    "# Usando Google Maps para prdecir crimenes\n",
    "\n",
    "**Ciudad : San Franscisco**"
   ]
  },
  {
   "cell_type": "code",
   "execution_count": 1,
   "metadata": {},
   "outputs": [],
   "source": [
    "# librerias\n",
    "\n",
    "import numpy as np \n",
    "import pandas as pd \n",
    "import datetime\n",
    "import urllib\n",
    "import matplotlib.pyplot as plt"
   ]
  },
  {
   "cell_type": "code",
   "execution_count": 2,
   "metadata": {},
   "outputs": [
    {
     "name": "stderr",
     "output_type": "stream",
     "text": [
      "/usr/local/Cellar/ipython/7.8.0/libexec/lib/python3.7/site-packages/IPython/core/interactiveshell.py:3058: DtypeWarning: Columns (0) have mixed types. Specify dtype option on import or set low_memory=False.\n",
      "  interactivity=interactivity, compiler=compiler, result=result)\n"
     ]
    },
    {
     "data": {
      "text/html": [
       "<div>\n",
       "<style scoped>\n",
       "    .dataframe tbody tr th:only-of-type {\n",
       "        vertical-align: middle;\n",
       "    }\n",
       "\n",
       "    .dataframe tbody tr th {\n",
       "        vertical-align: top;\n",
       "    }\n",
       "\n",
       "    .dataframe thead th {\n",
       "        text-align: right;\n",
       "    }\n",
       "</style>\n",
       "<table border=\"1\" class=\"dataframe\">\n",
       "  <thead>\n",
       "    <tr style=\"text-align: right;\">\n",
       "      <th></th>\n",
       "      <th>IncidntNum</th>\n",
       "      <th>Category</th>\n",
       "      <th>Descript</th>\n",
       "      <th>DayOfWeek</th>\n",
       "      <th>Date</th>\n",
       "      <th>Time</th>\n",
       "      <th>PdDistrict</th>\n",
       "      <th>Resolution</th>\n",
       "      <th>Address</th>\n",
       "      <th>X</th>\n",
       "      <th>Y</th>\n",
       "      <th>Location</th>\n",
       "    </tr>\n",
       "  </thead>\n",
       "  <tbody>\n",
       "    <tr>\n",
       "      <td>0</td>\n",
       "      <td>110308742</td>\n",
       "      <td>MISSING PERSON</td>\n",
       "      <td>FOUND PERSON</td>\n",
       "      <td>Friday</td>\n",
       "      <td>04/15/2011</td>\n",
       "      <td>16:00</td>\n",
       "      <td>TARAVAL</td>\n",
       "      <td>LOCATED</td>\n",
       "      <td>0 Block of CRESPI DR</td>\n",
       "      <td>-122.476328</td>\n",
       "      <td>37.719687</td>\n",
       "      <td>(37.7196874952717, -122.476327815126)</td>\n",
       "    </tr>\n",
       "    <tr>\n",
       "      <td>1</td>\n",
       "      <td>90316914</td>\n",
       "      <td>WARRANTS</td>\n",
       "      <td>WARRANT ARREST</td>\n",
       "      <td>Thursday</td>\n",
       "      <td>03/26/2009</td>\n",
       "      <td>12:28</td>\n",
       "      <td>SOUTHERN</td>\n",
       "      <td>ARREST, BOOKED</td>\n",
       "      <td>1000 Block of MARKET ST</td>\n",
       "      <td>-122.411340</td>\n",
       "      <td>37.781271</td>\n",
       "      <td>(37.7812707434494, -122.411339562557)</td>\n",
       "    </tr>\n",
       "    <tr>\n",
       "      <td>2</td>\n",
       "      <td>130132311</td>\n",
       "      <td>SECONDARY CODES</td>\n",
       "      <td>DOMESTIC VIOLENCE</td>\n",
       "      <td>Friday</td>\n",
       "      <td>02/15/2013</td>\n",
       "      <td>02:00</td>\n",
       "      <td>PARK</td>\n",
       "      <td>ARREST, BOOKED</td>\n",
       "      <td>CASTRO ST / MARKET ST</td>\n",
       "      <td>-122.435188</td>\n",
       "      <td>37.762670</td>\n",
       "      <td>(37.7626702770872, -122.435187699349)</td>\n",
       "    </tr>\n",
       "    <tr>\n",
       "      <td>3</td>\n",
       "      <td>80052833</td>\n",
       "      <td>OTHER OFFENSES</td>\n",
       "      <td>DRIVERS LICENSE, SUSPENDED OR REVOKED</td>\n",
       "      <td>Tuesday</td>\n",
       "      <td>01/15/2008</td>\n",
       "      <td>20:13</td>\n",
       "      <td>MISSION</td>\n",
       "      <td>ARREST, CITED</td>\n",
       "      <td>VALENCIA ST / 16TH ST</td>\n",
       "      <td>-122.421886</td>\n",
       "      <td>37.764918</td>\n",
       "      <td>(37.7649178909424, -122.421886357981)</td>\n",
       "    </tr>\n",
       "    <tr>\n",
       "      <td>4</td>\n",
       "      <td>70535770</td>\n",
       "      <td>SECONDARY CODES</td>\n",
       "      <td>DOMESTIC VIOLENCE</td>\n",
       "      <td>Saturday</td>\n",
       "      <td>05/26/2007</td>\n",
       "      <td>18:10</td>\n",
       "      <td>MISSION</td>\n",
       "      <td>ARREST, BOOKED</td>\n",
       "      <td>2800 Block of FOLSOM ST</td>\n",
       "      <td>-122.413935</td>\n",
       "      <td>37.751693</td>\n",
       "      <td>(37.7516932889916, -122.413935404044)</td>\n",
       "    </tr>\n",
       "  </tbody>\n",
       "</table>\n",
       "</div>"
      ],
      "text/plain": [
       "  IncidntNum         Category                               Descript  \\\n",
       "0  110308742   MISSING PERSON                           FOUND PERSON   \n",
       "1   90316914         WARRANTS                         WARRANT ARREST   \n",
       "2  130132311  SECONDARY CODES                      DOMESTIC VIOLENCE   \n",
       "3   80052833   OTHER OFFENSES  DRIVERS LICENSE, SUSPENDED OR REVOKED   \n",
       "4   70535770  SECONDARY CODES                      DOMESTIC VIOLENCE   \n",
       "\n",
       "  DayOfWeek        Date   Time PdDistrict      Resolution  \\\n",
       "0    Friday  04/15/2011  16:00    TARAVAL         LOCATED   \n",
       "1  Thursday  03/26/2009  12:28   SOUTHERN  ARREST, BOOKED   \n",
       "2    Friday  02/15/2013  02:00       PARK  ARREST, BOOKED   \n",
       "3   Tuesday  01/15/2008  20:13    MISSION   ARREST, CITED   \n",
       "4  Saturday  05/26/2007  18:10    MISSION  ARREST, BOOKED   \n",
       "\n",
       "                   Address           X          Y  \\\n",
       "0     0 Block of CRESPI DR -122.476328  37.719687   \n",
       "1  1000 Block of MARKET ST -122.411340  37.781271   \n",
       "2    CASTRO ST / MARKET ST -122.435188  37.762670   \n",
       "3    VALENCIA ST / 16TH ST -122.421886  37.764918   \n",
       "4  2800 Block of FOLSOM ST -122.413935  37.751693   \n",
       "\n",
       "                                Location  \n",
       "0  (37.7196874952717, -122.476327815126)  \n",
       "1  (37.7812707434494, -122.411339562557)  \n",
       "2  (37.7626702770872, -122.435187699349)  \n",
       "3  (37.7649178909424, -122.421886357981)  \n",
       "4  (37.7516932889916, -122.413935404044)  "
      ]
     },
     "execution_count": 2,
     "metadata": {},
     "output_type": "execute_result"
    }
   ],
   "source": [
    "## Datos de crimenes\n",
    "df_raw=pd.read_csv('https://data.sfgov.org/api/views/q6gg-sa2p/rows.csv?accessType=DOWNLOAD')\n",
    "df_raw.head()"
   ]
  },
  {
   "cell_type": "code",
   "execution_count": 3,
   "metadata": {},
   "outputs": [],
   "source": [
    "df_raw.to_csv('data/raw_data.csv', index=False)"
   ]
  },
  {
   "cell_type": "code",
   "execution_count": 4,
   "metadata": {},
   "outputs": [
    {
     "data": {
      "text/plain": [
       "Index(['IncidntNum', 'Category', 'Descript', 'DayOfWeek', 'Date', 'Time',\n",
       "       'PdDistrict', 'Resolution', 'Address', 'X', 'Y', 'Location'],\n",
       "      dtype='object')"
      ]
     },
     "execution_count": 4,
     "metadata": {},
     "output_type": "execute_result"
    }
   ],
   "source": [
    "df_raw.columns"
   ]
  },
  {
   "cell_type": "code",
   "execution_count": 5,
   "metadata": {},
   "outputs": [
    {
     "data": {
      "text/plain": [
       "(783251, 12)"
      ]
     },
     "execution_count": 5,
     "metadata": {},
     "output_type": "execute_result"
    }
   ],
   "source": [
    "df_raw.shape"
   ]
  },
  {
   "cell_type": "code",
   "execution_count": null,
   "metadata": {},
   "outputs": [],
   "source": [
    "df_raw.isna().sum()"
   ]
  },
  {
   "cell_type": "code",
   "execution_count": null,
   "metadata": {},
   "outputs": [],
   "source": [
    "df_raw.describe()"
   ]
  },
  {
   "cell_type": "code",
   "execution_count": null,
   "metadata": {},
   "outputs": [],
   "source": [
    "df_raw.info(memory_usage='deep')"
   ]
  },
  {
   "cell_type": "code",
   "execution_count": null,
   "metadata": {},
   "outputs": [],
   "source": []
  },
  {
   "cell_type": "code",
   "execution_count": null,
   "metadata": {},
   "outputs": [],
   "source": []
  },
  {
   "cell_type": "code",
   "execution_count": null,
   "metadata": {},
   "outputs": [],
   "source": []
  },
  {
   "cell_type": "code",
   "execution_count": null,
   "metadata": {},
   "outputs": [],
   "source": []
  }
 ],
 "metadata": {
  "kernelspec": {
   "display_name": "Python 3",
   "language": "python",
   "name": "python3"
  },
  "language_info": {
   "codemirror_mode": {
    "name": "ipython",
    "version": 3
   },
   "file_extension": ".py",
   "mimetype": "text/x-python",
   "name": "python",
   "nbconvert_exporter": "python",
   "pygments_lexer": "ipython3",
   "version": "3.7.6"
  }
 },
 "nbformat": 4,
 "nbformat_minor": 2
}
