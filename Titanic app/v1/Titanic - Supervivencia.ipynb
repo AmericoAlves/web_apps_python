{
 "cells": [
  {
   "cell_type": "markdown",
   "metadata": {},
   "source": [
    "# Titanic App\n",
    "\n",
    "¿Sobreviviria tu pasajero?"
   ]
  },
  {
   "cell_type": "markdown",
   "metadata": {},
   "source": [
    "**librerias**"
   ]
  },
  {
   "cell_type": "code",
   "execution_count": null,
   "metadata": {},
   "outputs": [],
   "source": [
    "import warnings\n",
    "warnings.simplefilter('ignore')"
   ]
  },
  {
   "cell_type": "code",
   "execution_count": null,
   "metadata": {},
   "outputs": [],
   "source": [
    "import matplotlib.pyplot as plt\n",
    "\n",
    "import pandas as pd\n",
    "import numpy as np\n",
    "from numpy import genfromtxt\n",
    "\n",
    "from sklearn.linear_model import LogisticRegression as LogReg\n",
    "from sklearn.model_selection import train_test_split as tts"
   ]
  },
  {
   "cell_type": "markdown",
   "metadata": {},
   "source": [
    "**datos**\n",
    "\n",
    "Incluyen caracteristicas como edad, numero de ticket, cabina, etc..\n",
    "\n",
    "El objetivo es clasificar-predecir la supervivencia."
   ]
  },
  {
   "cell_type": "code",
   "execution_count": null,
   "metadata": {},
   "outputs": [],
   "source": [
    "df=pd.read_csv('http://biostat.mc.vanderbilt.edu/wiki/pub/Main/DataSets/titanic3.csv')\n",
    "\n",
    "df.head()"
   ]
  },
  {
   "cell_type": "markdown",
   "metadata": {},
   "source": [
    "**exploracion**"
   ]
  },
  {
   "cell_type": "code",
   "execution_count": null,
   "metadata": {},
   "outputs": [],
   "source": [
    "df.shape"
   ]
  },
  {
   "cell_type": "code",
   "execution_count": null,
   "metadata": {},
   "outputs": [],
   "source": [
    "df.columns"
   ]
  },
  {
   "cell_type": "code",
   "execution_count": null,
   "metadata": {},
   "outputs": [],
   "source": [
    "df.info(memory_usage='deep')"
   ]
  },
  {
   "cell_type": "code",
   "execution_count": null,
   "metadata": {},
   "outputs": [],
   "source": [
    "df.isna().sum()"
   ]
  },
  {
   "cell_type": "code",
   "execution_count": null,
   "metadata": {},
   "outputs": [],
   "source": [
    "df.describe()"
   ]
  },
  {
   "cell_type": "markdown",
   "metadata": {},
   "source": [
    "**preparando datos**"
   ]
  },
  {
   "cell_type": "code",
   "execution_count": null,
   "metadata": {},
   "outputs": [],
   "source": [
    "# tratando los NaN\n",
    "\n",
    "# letra de la cabina\n",
    "df.cabin=df.cabin.replace(np.NaN, 'U') \n",
    "df.cabin=[e[0] for e in df.cabin.values]\n",
    "df.cabin=df.cabin.replace('U', 'Unknown')"
   ]
  },
  {
   "cell_type": "code",
   "execution_count": null,
   "metadata": {},
   "outputs": [],
   "source": [
    "# titulo (Señor-Señora)\n",
    "df['title']=[e.split()[1] for e in df.name.values]\n",
    "\n",
    "\n",
    "df.title=[t if t in ['Mr.', 'Miss.', \n",
    "                     'Mrs.', 'Master.', \n",
    "                     'Dr.', 'Rev.'] else 'Unknown'\n",
    "          for t in df.title.values ]\n"
   ]
  },
  {
   "cell_type": "code",
   "execution_count": null,
   "metadata": {},
   "outputs": [],
   "source": [
    "df.title.value_counts()"
   ]
  },
  {
   "cell_type": "code",
   "execution_count": null,
   "metadata": {},
   "outputs": [],
   "source": [
    "# se crea el campo de si es mujer\n",
    "df['isfemale']=np.where(df.sex=='female', 1, 0)\n",
    "\n",
    "# se eliminan columnas innecesarias\n",
    "df=df[[f for f in list(df) if f not in ['sex', \n",
    "                                        'name', \n",
    "                                        'boat',\n",
    "                                        'body', \n",
    "                                        'ticket', \n",
    "                                        'home.dest']]]\n",
    "\n",
    "# pclass a categorico string\n",
    "df.pclass=np.where(df.pclass== 1,'First', \n",
    "                   np.where(df.pclass==2, \n",
    "                            'Second', 'Third'))\n",
    "\n",
    "# nulos por desconocido en embarque\n",
    "df.embarked=df.embarked.replace(np.NaN, 'Unknown') "
   ]
  },
  {
   "cell_type": "code",
   "execution_count": null,
   "metadata": {},
   "outputs": [],
   "source": [
    "df.head()"
   ]
  },
  {
   "cell_type": "code",
   "execution_count": null,
   "metadata": {},
   "outputs": [],
   "source": [
    "# one-hot encoding de las variables categoricas\n",
    "\n",
    "def one_hot(df, columns, drop_first=True, make_na_col=True): \n",
    "    dummy=pd.get_dummies(df, \n",
    "                         columns=columns, \n",
    "                         drop_first=drop_first, \n",
    "                         dummy_na=make_na_col)\n",
    "    return dummy"
   ]
  },
  {
   "cell_type": "code",
   "execution_count": null,
   "metadata": {},
   "outputs": [],
   "source": [
    "df_dummy=one_hot(df, columns=['pclass', 'cabin', 'embarked', 'title'])\n",
    "df_dummy=df_dummy.dropna()\n",
    "df_dummy.head()"
   ]
  },
  {
   "cell_type": "markdown",
   "metadata": {},
   "source": [
    "## Modelo"
   ]
  },
  {
   "cell_type": "code",
   "execution_count": null,
   "metadata": {},
   "outputs": [],
   "source": [
    "# train-test split\n",
    "\n",
    "X=df_dummy.drop('survived', axis=1)\n",
    "y=df_dummy.survived\n",
    "\n",
    "\n",
    "X_train, X_test, y_train, y_test=tts(X, y, test_size=.2, random_state=42)"
   ]
  },
  {
   "cell_type": "code",
   "execution_count": null,
   "metadata": {},
   "outputs": [],
   "source": [
    "logreg=LogReg()\n",
    "\n",
    "logreg.fit(X_train, y_train.values.ravel());"
   ]
  },
  {
   "cell_type": "code",
   "execution_count": null,
   "metadata": {},
   "outputs": [],
   "source": [
    "y_pred=logreg.predict(X_test)\n",
    "\n",
    "\n",
    "print('Accuracy : {:.2f}%'.format(logreg.score(X_test, y_test)*100))"
   ]
  },
  {
   "cell_type": "code",
   "execution_count": null,
   "metadata": {},
   "outputs": [],
   "source": [
    "# interpretacion de los coeficientes de logreg\n",
    "print ('Coeficientes:')\n",
    "\n",
    "logreg.coef_"
   ]
  },
  {
   "cell_type": "code",
   "execution_count": null,
   "metadata": {},
   "outputs": [],
   "source": [
    "coefs = pd.DataFrame({'Carac':X.columns, 'Coef':logreg.coef_[0]})\n",
    "print('Caracteristicas positivas:')\n",
    "coefs.sort_values('Coef', ascending=False).head(7)"
   ]
  },
  {
   "cell_type": "code",
   "execution_count": null,
   "metadata": {},
   "outputs": [],
   "source": [
    "print('Caracteristicas negativas:')\n",
    "coefs.sort_values('Coef', ascending=False).tail(7)"
   ]
  },
  {
   "cell_type": "markdown",
   "metadata": {},
   "source": [
    "## Prediccion a 'mano'"
   ]
  },
  {
   "cell_type": "code",
   "execution_count": null,
   "metadata": {},
   "outputs": [],
   "source": [
    "# se crea un pasajero ficticio\n",
    "\n",
    "\n",
    "pasajero={\n",
    "    'pclass':'Third', # First, Second, Third (Clase)\n",
    "    'isfemale':1,     # 0-1  (Genero)\n",
    "    'age':20,         # 0-100 (Edad)\n",
    "    'sibsp':3,        # (0-8) (Hermanos, esposos)\n",
    "    'parch':0,        # (0-9)  (Padres, hijos)\n",
    "    'fare':200,       # (0-500) (Tarifa)\n",
    "    'cabin':'A',      # 'A', 'C', 'B', 'E', 'D', 'G', 'F', 'T', 'Z'  (Cabina)\n",
    "    'embarked':'Q',   # 'Q', 'S', 'C' # Queenstown Southampton Cherbourg (Puerto)\n",
    "    'title':'Mrs.',   # 'Mr.', 'Miss.', 'Mrs.', 'Master.', 'Dr.', 'Rev.', Unknown (Titulo)\n",
    "    'survived':0      # para concatenar dfs\n",
    "}\n",
    " "
   ]
  },
  {
   "cell_type": "code",
   "execution_count": null,
   "metadata": {},
   "outputs": [],
   "source": [
    "pas_df=pd.DataFrame.from_dict(pasajero, orient='index').T\n",
    "pas_df"
   ]
  },
  {
   "cell_type": "code",
   "execution_count": null,
   "metadata": {},
   "outputs": [],
   "source": [
    "df.head()"
   ]
  },
  {
   "cell_type": "code",
   "execution_count": null,
   "metadata": {},
   "outputs": [],
   "source": [
    "pred_df=pd.concat([pas_df, df], ignore_index=True)\n",
    "pred_df.head()"
   ]
  },
  {
   "cell_type": "code",
   "execution_count": null,
   "metadata": {},
   "outputs": [],
   "source": [
    "pred_df=one_hot(pred_df,\n",
    "               columns=['pclass', 'cabin', 'embarked', 'title'])\n",
    "pred_df.head()"
   ]
  },
  {
   "cell_type": "code",
   "execution_count": null,
   "metadata": {},
   "outputs": [],
   "source": [
    "# prediccion\n",
    "\n",
    "x=pred_df[X.columns].head(1) # datos del pasajero\n",
    "\n",
    "y_pred=logreg.predict(x)\n",
    "\n",
    "y_prob=logreg.predict_proba(x)\n",
    "\n",
    "print ('Etiqueta:', y_pred) \n",
    "print ()\n",
    "print ('Probabilidad [0 , 1]:', y_prob)\n",
    "print ()\n",
    "print ('Prob supervivencia:', y_prob[0][1])"
   ]
  },
  {
   "cell_type": "markdown",
   "metadata": {},
   "source": [
    "## Plot"
   ]
  },
  {
   "cell_type": "code",
   "execution_count": null,
   "metadata": {},
   "outputs": [],
   "source": [
    "tasa_media_super=np.mean(df['survived'])*100\n",
    "print ('Tasa media supervivencia: {:.2f}%'.format(tasa_media_super))"
   ]
  },
  {
   "cell_type": "code",
   "execution_count": null,
   "metadata": {},
   "outputs": [],
   "source": [
    "with plt.xkcd():\n",
    "    plt.figure(figsize=(10,8))\n",
    "\n",
    "    plt.bar(range(2),\n",
    "            [tasa_media_super, y_prob[0][1]*100],\n",
    "            align='center', \n",
    "            color=['y', 'b'], \n",
    "            alpha=0.5)\n",
    "\n",
    "    plt.xticks(range(2), ['Tasa Supervivencia media', 'Pasajero'])\n",
    "\n",
    "    plt.axhline(tasa_media_super, color='r')\n",
    "    plt.ylim([0,100])\n",
    "    plt.ylabel('Probabilidad Supervivencia')\n",
    "    plt.title('¿Sobrevivirá tu pasajero? \\n '+'¡{:.2f}% de probabilidad!'.format(y_prob[0][1]*100))\n",
    "\n",
    "    plt.show();"
   ]
  },
  {
   "cell_type": "markdown",
   "metadata": {},
   "source": [
    "# Preparando Data para Produccion\n"
   ]
  },
  {
   "cell_type": "code",
   "execution_count": null,
   "metadata": {},
   "outputs": [],
   "source": [
    "def data():\n",
    "    \n",
    "    df=pd.read_csv('http://biostat.mc.vanderbilt.edu/wiki/pub/Main/DataSets/titanic3.csv')\n",
    "    \n",
    "    df.cabin=df.cabin.replace(np.NaN, 'U') \n",
    "    df.cabin=[e[0] for e in df.cabin.values]\n",
    "    df.cabin=df.cabin.replace('U', 'Unknown')\n",
    "    \n",
    "    df['title']=[e.split()[1] for e in df.name.values]\n",
    "    df.title=[t if t in ['Mr.', 'Miss.', \n",
    "                         'Mrs.', 'Master.', \n",
    "                         'Dr.', 'Rev.'] else 'Unknown'\n",
    "              for t in df.title.values ]\n",
    "    \n",
    "    df['isfemale']=np.where(df.sex=='female', 1, 0)\n",
    "    \n",
    "    df=df[[f for f in list(df) if f not in ['sex', \n",
    "                                            'name', \n",
    "                                            'boat',\n",
    "                                            'body', \n",
    "                                            'ticket', \n",
    "                                            'home.dest']]]\n",
    "\n",
    "    df.pclass=np.where(df.pclass== 1,'First', \n",
    "                       np.where(df.pclass==2, \n",
    "                                'Second', 'Third'))\n",
    "\n",
    "    df.embarked=df.embarked.replace(np.NaN, 'Unknown')\n",
    "    \n",
    "    df_dummy=pd.get_dummies(df, \n",
    "                            columns=['pclass', 'cabin', \n",
    "                                     'embarked', 'title'], \n",
    "                            drop_first=True, \n",
    "                            dummy_na=True)\n",
    "    \n",
    "    df_dummy=df_dummy.dropna()\n",
    "    \n",
    "    df_dummy.to_csv('data/titanic.csv', header=False, index=False)\n",
    "\n",
    "    \n",
    "    \n",
    "    \n",
    "data()  # se guarda el df sin nombres de columnas ni indice"
   ]
  },
  {
   "cell_type": "markdown",
   "metadata": {
    "collapsed": true
   },
   "source": [
    "# Web-App (main.py)"
   ]
  },
  {
   "cell_type": "code",
   "execution_count": null,
   "metadata": {},
   "outputs": [
    {
     "name": "stdout",
     "output_type": "stream",
     "text": [
      " * Serving Flask app \"__main__\" (lazy loading)\n",
      " * Environment: production\n",
      "   WARNING: This is a development server. Do not use it in a production deployment.\n",
      "   Use a production WSGI server instead.\n",
      " * Debug mode: off\n"
     ]
    },
    {
     "name": "stderr",
     "output_type": "stream",
     "text": [
      " * Running on http://127.0.0.1:5000/ (Press CTRL+C to quit)\n",
      "/Users/data/Library/Python/3.7/lib/python/site-packages/sklearn/linear_model/logistic.py:432: FutureWarning: Default solver will be changed to 'lbfgs' in 0.22. Specify a solver to silence this warning.\n",
      "  FutureWarning)\n",
      "127.0.0.1 - - [02/Jan/2020 12:12:25] \"\u001b[37mGET / HTTP/1.1\u001b[0m\" 200 -\n",
      "127.0.0.1 - - [02/Jan/2020 12:12:25] \"\u001b[37mGET /static/images/small_titanic.jpg HTTP/1.1\u001b[0m\" 200 -\n",
      "127.0.0.1 - - [02/Jan/2020 12:12:25] \"\u001b[37mGET /static/images//small_cabin_location.png HTTP/1.1\u001b[0m\" 200 -\n",
      "127.0.0.1 - - [02/Jan/2020 12:12:37] \"\u001b[1m\u001b[31mPOST / HTTP/1.1\u001b[0m\" 400 -\n"
     ]
    }
   ],
   "source": [
    "from flask import Flask\n",
    "from flask import render_template\n",
    "from flask import flash\n",
    "from flask import request\n",
    "from flask import jsonify\n",
    "from flask import Markup\n",
    "\n",
    "import matplotlib\n",
    "matplotlib.use('Agg')\n",
    "import matplotlib.pyplot as plt\n",
    "\n",
    "import io, base64, os\n",
    "\n",
    "import numpy as np\n",
    "from numpy import genfromtxt\n",
    "from sklearn.linear_model import LogisticRegression as LogReg\n",
    "from sklearn.model_selection import train_test_split as tts\n",
    " \n",
    "\n",
    "    \n",
    "# default inicial\n",
    "EMBARKED='Southampton'\n",
    "FARE=33\n",
    "AGE=30\n",
    "GENDER='Female'\n",
    "TITLE='Mrs.'\n",
    "CLASS='Second'\n",
    "CABIN='C'\n",
    "SIBSP=0\n",
    "PARCH=0\n",
    "\n",
    "\n",
    "# inicializando variables\n",
    "tasa_media=0\n",
    "\n",
    "\n",
    "\n",
    "# modelo \n",
    "logreg=LogReg()\n",
    "\n",
    "\n",
    "\n",
    "# flask app\n",
    "app=Flask(__name__)\n",
    "\n",
    "\n",
    "\n",
    "# antes del primer request...\n",
    "@app.before_first_request\n",
    "def startup():\n",
    "    global tasa_media, logreg\n",
    "    \n",
    "    data=genfromtxt('data/titanic.csv', delimiter=',')\n",
    "    \n",
    "    tasa_media=(np.mean([e[0] for e in data])*100)\n",
    "\n",
    "    X_train, X_test, y_train, y_test=tts([e[1:] for e in data], \n",
    "                                         [e[0] for e in data], \n",
    "                                         test_size=0.1, \n",
    "                                         random_state=42)\n",
    "    \n",
    "    logreg.fit(X_train, y_train)  # se entrena una vez antes de arrancar\n",
    "    \n",
    "    \n",
    "\n",
    "    \n",
    "# main app\n",
    "@app.route(\"/\", methods=['POST', 'GET'])\n",
    "def main():\n",
    "    model_results=''\n",
    "    \n",
    "    if request.method=='POST':\n",
    "        s_embarked=request.form['s_embarked']\n",
    "        s_fare=request.form['s_fare']\n",
    "        s_age=request.form['s_age']\n",
    "        s_gender=request.form['s_gender']\n",
    "        s_title=request.form['s_title']\n",
    "        s_class=request.form['s_class']\n",
    "        s_cabin=request.form['s_cabin']\n",
    "        s_sibsp=request.form['s_sibsp']\n",
    "        s_parch=request.form['s_parch']\n",
    "        \n",
    "        # se reasigna para prediccion\n",
    "        age=int(s_age)\n",
    "        isfemale=1 if s_gender=='Female' else 0\n",
    "        sibsp=int(s_sibsp)\n",
    "        parch=int(s_parch)\n",
    "        fare=int(s_fare)\n",
    "        \n",
    "        \n",
    "        # puerto de embarque\n",
    "        embarked_Q=1\n",
    "        embarked_S=0\n",
    "        embarked_Unknown=0 \n",
    "        embarked_nan=0\n",
    "        if (s_embarked[0]=='Q'):\n",
    "            embarked_Q = 1\n",
    "        if (s_embarked[0]=='S'):\n",
    "            embarked_S = 1\n",
    "            \n",
    "        \n",
    "        # clase\n",
    "        pclass_Second=0\n",
    "        pclass_Third=0\n",
    "        pclass_nan=0\n",
    "        if (s_class=='Second'):\n",
    "            pclass_Second=0\n",
    "        if (s_class=='Third'):\n",
    "            pclass_Third=0\n",
    "            \n",
    "            \n",
    "        \n",
    "        # titulo\n",
    "        title_Master=0\n",
    "        title_Miss=0\n",
    "        title_Mr=0\n",
    "        title_Mrs=0\n",
    "        title_Rev=0\n",
    "        title_Unknown=0\n",
    "        title_nan=0\n",
    "        if (s_title=='Master.'):\n",
    "            title_Master=1\n",
    "        if (s_title=='Miss.'):\n",
    "            title_Miss=1\n",
    "        if (s_title=='Mr.'):\n",
    "            title_Mr=1\n",
    "        if (s_title=='Mrs.'):\n",
    "            title_Mrs=1\n",
    "        if (s_title=='Rev.'):\n",
    "            title_Master=1\n",
    "        if (s_title=='Unknown'):\n",
    "            title_Unknown=1\n",
    "            \n",
    "            \n",
    "        \n",
    "        # pasajero\n",
    "        pasajero=[[age, sibsp, parch, fare, isfemale, \n",
    "                   pclass_Second, pclass_Third, pclass_nan, \n",
    "                   cabin_B, cabin_C, cabin_D, cabin_E, cabin_F, cabin_G,\n",
    "                   cabin_T, cabin_Unknown, cabin_nan, embarked_Q, \n",
    "                   embarked_S, embarked_Unknown, embarked_nan, \n",
    "                   title_Master, title_Miss, title_Mr, title_Mrs, \n",
    "                   title_Rev, title_Unknown, title_nan]]\n",
    "        \n",
    "        \n",
    "        # prediccion\n",
    "        y_prob=logreg.predict_proba(pasajero)\n",
    "        \n",
    "        prob_super=y_prob[0][1]*100\n",
    "        \n",
    "        \n",
    "        # plot\n",
    "        with plt.xkcd():\n",
    "            plt.figure()\n",
    "            plt.bar(range(2),[tasa_media, y_prob[0][1]*100],\n",
    "                    align='center', color=['y', 'b'], alpha=0.5)\n",
    "            \n",
    "            plt.xticks(range(2), ['Tasa Supervivencia media', 'Pasajero'])\n",
    "            plt.axhline(tasa_media_super, color='r')\n",
    "            plt.ylim([0,100])\n",
    "            plt.ylabel('Probabilidad Supervivencia')\n",
    "            plt.title('¿Sobrevivirá tu pasajero? \\n '+'¡{:.2f}% de probabilidad!'.format(y_prob[0][1]*100))\n",
    "            img=io.BytesIO()\n",
    "            plt.savefig(img, format='png')\n",
    "            img.seek(0)\n",
    "            plot_url=base64.b64encode(img.getvalue()).decode()\n",
    "            \n",
    "        \n",
    "        return render_template('index.html',\n",
    "            model_results=model_results,\n",
    "            model_plot=Markup('<img src=\"data:image/png;base64,{}\">'.format(plot_url)),\n",
    "            s_embarked=s_embarked,\n",
    "            s_fare=s_fare,\n",
    "            s_age=s_age,\n",
    "            s_gender=s_gender,\n",
    "            s_title=s_title,\n",
    "            s_class=s_class,\n",
    "            s_cabin=s_cabin,\n",
    "            s_sibsp=s_sibsp,\n",
    "            s_parch=s_parch)\n",
    "    \n",
    "    else:\n",
    "        # parametros por defecto\n",
    "        return render_template('index.html',\n",
    "            model_results = '',\n",
    "            model_plot = '',\n",
    "            s_embarked=EMBARKED,\n",
    "            s_fare=FARE,\n",
    "            s_age=AGE,\n",
    "            s_gender=GENDER,\n",
    "            s_title=TITLE,\n",
    "            s_class=CLASS,\n",
    "            s_cabin=CABIN,\n",
    "            s_sibsp=SIBSP,\n",
    "            s_parch=PARCH)\n",
    "\n",
    "if __name__=='__main__':\n",
    "\tapp.run(debug=False)\n",
    "    \n",
    "    \n",
    "    \n",
    "    \n",
    "    "
   ]
  },
  {
   "cell_type": "code",
   "execution_count": null,
   "metadata": {},
   "outputs": [],
   "source": []
  },
  {
   "cell_type": "code",
   "execution_count": null,
   "metadata": {},
   "outputs": [],
   "source": []
  },
  {
   "cell_type": "code",
   "execution_count": null,
   "metadata": {},
   "outputs": [],
   "source": []
  },
  {
   "cell_type": "code",
   "execution_count": null,
   "metadata": {},
   "outputs": [],
   "source": []
  },
  {
   "cell_type": "code",
   "execution_count": null,
   "metadata": {},
   "outputs": [],
   "source": []
  },
  {
   "cell_type": "code",
   "execution_count": null,
   "metadata": {},
   "outputs": [],
   "source": []
  }
 ],
 "metadata": {
  "kernelspec": {
   "display_name": "Python 3",
   "language": "python",
   "name": "python3"
  },
  "language_info": {
   "codemirror_mode": {
    "name": "ipython",
    "version": 3
   },
   "file_extension": ".py",
   "mimetype": "text/x-python",
   "name": "python",
   "nbconvert_exporter": "python",
   "pygments_lexer": "ipython3",
   "version": "3.7.5"
  }
 },
 "nbformat": 4,
 "nbformat_minor": 2
}
