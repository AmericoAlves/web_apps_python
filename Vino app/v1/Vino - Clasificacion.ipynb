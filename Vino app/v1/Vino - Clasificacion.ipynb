{
 "cells": [
  {
   "cell_type": "markdown",
   "metadata": {},
   "source": [
    "# Clasificacion de la calidad del vino"
   ]
  },
  {
   "cell_type": "markdown",
   "metadata": {},
   "source": [
    "Se entrenara un modelo que clasifique la calidad del vino, ya sea tinto o blanco, segun sus caracteristicas"
   ]
  },
  {
   "cell_type": "code",
   "execution_count": null,
   "metadata": {},
   "outputs": [],
   "source": [
    "# librerias\n",
    "import warnings\n",
    "warnings.filterwarnings('ignore')\n",
    "\n",
    "import pandas as pd\n",
    "import numpy as np\n",
    "import pickle\n",
    "\n",
    "import matplotlib.pyplot as plt\n",
    "import seaborn as sns\n",
    "%matplotlib inline\n",
    "\n",
    "from sklearn.ensemble import GradientBoostingClassifier as GBC\n",
    "from sklearn.metrics import confusion_matrix\n",
    "from sklearn.model_selection import train_test_split as tts"
   ]
  },
  {
   "cell_type": "markdown",
   "metadata": {},
   "source": [
    "## Datos"
   ]
  },
  {
   "cell_type": "code",
   "execution_count": null,
   "metadata": {},
   "outputs": [],
   "source": [
    "tinto=pd.read_csv('http://archive.ics.uci.edu/ml/machine-learning-databases/wine-quality/winequality-red.csv',\n",
    "                  sep=';')\n",
    "\n",
    "print (tinto.shape)\n",
    "tinto.head()"
   ]
  },
  {
   "cell_type": "code",
   "execution_count": null,
   "metadata": {},
   "outputs": [],
   "source": [
    "blanco=pd.read_csv('http://archive.ics.uci.edu/ml/machine-learning-databases/wine-quality/winequality-white.csv',\n",
    "                  sep=';')\n",
    "\n",
    "print (blanco.shape)\n",
    "blanco.head()"
   ]
  },
  {
   "cell_type": "code",
   "execution_count": null,
   "metadata": {},
   "outputs": [],
   "source": [
    "# se concatena en un dataframe\n",
    "\n",
    "blanco['color']=0\n",
    "tinto['color']=1\n",
    "\n",
    "vino=pd.concat([blanco, tinto], ignore_index=True)\n",
    "vino.head()"
   ]
  },
  {
   "cell_type": "markdown",
   "metadata": {},
   "source": [
    "**exploracion**"
   ]
  },
  {
   "cell_type": "code",
   "execution_count": null,
   "metadata": {},
   "outputs": [],
   "source": [
    "vino.columns"
   ]
  },
  {
   "cell_type": "code",
   "execution_count": null,
   "metadata": {},
   "outputs": [],
   "source": [
    "vino.describe()"
   ]
  },
  {
   "cell_type": "code",
   "execution_count": null,
   "metadata": {},
   "outputs": [],
   "source": [
    "vino.info(memory_usage='deep')"
   ]
  },
  {
   "cell_type": "code",
   "execution_count": null,
   "metadata": {},
   "outputs": [],
   "source": [
    "# dato objetivo (calidad)\n",
    "\n",
    "vino.quality.value_counts()"
   ]
  },
  {
   "cell_type": "code",
   "execution_count": null,
   "metadata": {},
   "outputs": [],
   "source": [
    "vino.quality.hist()\n",
    "plt.title('Histograma Calidad del Vino')\n",
    "plt.xlabel('Grupos de Calidad')\n",
    "plt.ylabel('Numero de elementos')\n",
    "plt.show();"
   ]
  },
  {
   "cell_type": "markdown",
   "metadata": {},
   "source": [
    "Los datos estan desbalanceados, tanto en tinto-blanco como en las calidades.\n",
    "\n",
    "Se hace un nuevo binning, llamando calidad=3 a lo que eran (3,4,5). calidad=6, (6). calidad=9, (7,8,9). De esta manera quedan balanceados segun calidad. Es una simple aproximacion a este problema, la idea es llegar a un modelo funcional para poner en produccion. \n"
   ]
  },
  {
   "cell_type": "code",
   "execution_count": null,
   "metadata": {},
   "outputs": [],
   "source": [
    "# ahora solo tres clases\n",
    "vino_malo=vino[vino.quality.isin([3,4,5])]\n",
    "vino_malo.quality=3\n",
    "\n",
    "vino_normal=vino[vino.quality==6]\n",
    "vino_normal.quality=6\n",
    "\n",
    "vino_bueno= vino[vino.quality.isin([7,8,9])]\n",
    "vino_bueno.quality=9\n",
    "\n",
    "vino=pd.concat([vino_malo,\n",
    "                vino_normal,\n",
    "                vino_bueno], \n",
    "               ignore_index=True)\n",
    "\n",
    "# se guarda\n",
    "vino.to_csv('data/vino_data.csv', index=False)\n",
    "\n",
    "vino.quality.value_counts()"
   ]
  },
  {
   "cell_type": "code",
   "execution_count": null,
   "metadata": {},
   "outputs": [],
   "source": [
    "vino.quality.hist()\n",
    "plt.title('Histograma Calidad del Vino')\n",
    "plt.xlabel('Grupos de Calidad')\n",
    "plt.ylabel('Numero de elementos')\n",
    "plt.show();"
   ]
  },
  {
   "cell_type": "code",
   "execution_count": null,
   "metadata": {},
   "outputs": [],
   "source": [
    "vino.head()"
   ]
  },
  {
   "cell_type": "markdown",
   "metadata": {},
   "source": [
    "## Modelo"
   ]
  },
  {
   "cell_type": "code",
   "execution_count": null,
   "metadata": {},
   "outputs": [],
   "source": [
    "# train-test split\n",
    "\n",
    "X=vino.drop('quality', axis=1)\n",
    "\n",
    "vino.quality=pd.Categorical(vino.quality)\n",
    "vino['quality_c']=vino.quality.cat.codes\n",
    "y=vino.quality_c"
   ]
  },
  {
   "cell_type": "code",
   "execution_count": null,
   "metadata": {},
   "outputs": [],
   "source": [
    "X_train, X_test, y_train, y_test=tts(X, y, test_size=0.2, random_state=42)\n",
    "\n",
    "print (X_train.shape, X_test.shape)"
   ]
  },
  {
   "cell_type": "code",
   "execution_count": null,
   "metadata": {},
   "outputs": [],
   "source": [
    "# clasificador\n",
    "\n",
    "gbc=GBC(random_state=10, learning_rate=0.1, max_depth=10)\n",
    "\n",
    "gbc.fit(X_train, y_train)\n",
    "\n",
    "# se guarda el entrenamiento en pickle para no entrenar en la web\n",
    "with open('data/gbc.p', 'wb') as f:\n",
    "    pickle.dump(gbc, f, 2)\n",
    "\n",
    "# se carga el modelo\n",
    "gbc=pickle.load(open('data/gbc.p', 'rb' ))"
   ]
  },
  {
   "cell_type": "code",
   "execution_count": null,
   "metadata": {},
   "outputs": [],
   "source": [
    "y_pred=gbc.predict(X_test)\n",
    "y_pred"
   ]
  },
  {
   "cell_type": "code",
   "execution_count": null,
   "metadata": {},
   "outputs": [],
   "source": [
    "y_prob=gbc.predict_proba(X_test)\n",
    "y_prob"
   ]
  },
  {
   "cell_type": "markdown",
   "metadata": {},
   "source": [
    "**Evaluacion**"
   ]
  },
  {
   "cell_type": "code",
   "execution_count": null,
   "metadata": {},
   "outputs": [],
   "source": [
    "# accuracy\n",
    "\n",
    "gbc.score(X_test, y_test)"
   ]
  },
  {
   "cell_type": "markdown",
   "metadata": {},
   "source": [
    "**Matriz de Confusion**"
   ]
  },
  {
   "cell_type": "code",
   "execution_count": null,
   "metadata": {},
   "outputs": [],
   "source": [
    "# plot matriz confusion\n",
    "\n",
    "confusion=confusion_matrix(y_test, y_pred)\n",
    "\n",
    "ax=sns.heatmap(confusion,\n",
    "            cmap=plt.cm.Blues,\n",
    "            annot=True)\n",
    "\n",
    "b, t=ax.get_ylim()\n",
    "ax.set_ylim(b+.5, t-.5)\n",
    "\n",
    "plt.xlabel('Prediction')\n",
    "plt.ylabel('Truth')\n",
    "plt.title('Confusion Matrix(clases)')\n",
    "plt.show()"
   ]
  },
  {
   "cell_type": "code",
   "execution_count": null,
   "metadata": {},
   "outputs": [],
   "source": [
    "ax=sns.heatmap((confusion/len(y_pred)*100),\n",
    "                cmap=plt.cm.Blues,\n",
    "                annot=True)\n",
    "\n",
    "b, t=ax.get_ylim()\n",
    "ax.set_ylim(b+.5, t-.5)\n",
    "\n",
    "plt.xlabel('Prediction')\n",
    "plt.ylabel('Truth')\n",
    "plt.title('Confusion Matrix(%)')\n",
    "plt.show()"
   ]
  },
  {
   "cell_type": "markdown",
   "metadata": {},
   "source": [
    "## Prediciendo a mano"
   ]
  },
  {
   "cell_type": "code",
   "execution_count": null,
   "metadata": {},
   "outputs": [],
   "source": [
    "# nuevos datos, la media\n",
    "\n",
    "n_data={k:v for k,v in zip(X_train.columns, vino.mean())}\n",
    "n_data['color']=0\n",
    "n_data"
   ]
  },
  {
   "cell_type": "code",
   "execution_count": null,
   "metadata": {},
   "outputs": [],
   "source": [
    "# se pasa a dataframe\n",
    "\n",
    "X_pred=pd.DataFrame.from_dict(n_data, orient='index').T\n",
    "X_pred"
   ]
  },
  {
   "cell_type": "code",
   "execution_count": null,
   "metadata": {},
   "outputs": [],
   "source": [
    "# prediccion clases=[0,1,2]\n",
    "\n",
    "pred=gbc.predict_proba(X_pred)\n",
    "pred"
   ]
  },
  {
   "cell_type": "markdown",
   "metadata": {},
   "source": [
    "# Web-App \n",
    "\n",
    "## main.py"
   ]
  },
  {
   "cell_type": "code",
   "execution_count": null,
   "metadata": {},
   "outputs": [
    {
     "name": "stdout",
     "output_type": "stream",
     "text": [
      " * Serving Flask app \"__main__\" (lazy loading)\n",
      " * Environment: production\n",
      "   WARNING: This is a development server. Do not use it in a production deployment.\n",
      "   Use a production WSGI server instead.\n",
      " * Debug mode: off\n"
     ]
    },
    {
     "name": "stderr",
     "output_type": "stream",
     "text": [
      " * Running on http://127.0.0.1:5000/ (Press CTRL+C to quit)\n",
      "WARNING:root:¡main!\n",
      "127.0.0.1 - - [04/Jan/2020 08:38:49] \"\u001b[37mGET / HTTP/1.1\u001b[0m\" 200 -\n",
      "INFO:werkzeug:127.0.0.1 - - [04/Jan/2020 08:38:49] \"\u001b[37mGET / HTTP/1.1\u001b[0m\" 200 -\n",
      "127.0.0.1 - - [04/Jan/2020 08:38:51] \"\u001b[37mGET /backend?fixed_acidity=7.5&volatile_acidity=0.4&citric_acid=0.3&residual_sugar=5.5&chlorides=0.05&free_sulfur_dioxide=31&total_sulfur_dioxide=115&density=0.99&pH=3.2&sulphates=0.5&alcohol=10.5&color=0 HTTP/1.1\u001b[0m\" 200 -\n",
      "INFO:werkzeug:127.0.0.1 - - [04/Jan/2020 08:38:51] \"\u001b[37mGET /backend?fixed_acidity=7.5&volatile_acidity=0.4&citric_acid=0.3&residual_sugar=5.5&chlorides=0.05&free_sulfur_dioxide=31&total_sulfur_dioxide=115&density=0.99&pH=3.2&sulphates=0.5&alcohol=10.5&color=0 HTTP/1.1\u001b[0m\" 200 -\n",
      "127.0.0.1 - - [04/Jan/2020 08:38:51] \"\u001b[36mGET /static/images/vino_blanco_6.jpg HTTP/1.1\u001b[0m\" 304 -\n",
      "INFO:werkzeug:127.0.0.1 - - [04/Jan/2020 08:38:51] \"\u001b[36mGET /static/images/vino_blanco_6.jpg HTTP/1.1\u001b[0m\" 304 -\n",
      "127.0.0.1 - - [04/Jan/2020 08:38:58] \"\u001b[37mGET /backend?fixed_acidity=7.5&volatile_acidity=0.4&citric_acid=0.3&residual_sugar=5.5&chlorides=0.05&free_sulfur_dioxide=196&total_sulfur_dioxide=115&density=0.99&pH=3.2&sulphates=0.5&alcohol=10.5&color=0 HTTP/1.1\u001b[0m\" 200 -\n",
      "INFO:werkzeug:127.0.0.1 - - [04/Jan/2020 08:38:58] \"\u001b[37mGET /backend?fixed_acidity=7.5&volatile_acidity=0.4&citric_acid=0.3&residual_sugar=5.5&chlorides=0.05&free_sulfur_dioxide=196&total_sulfur_dioxide=115&density=0.99&pH=3.2&sulphates=0.5&alcohol=10.5&color=0 HTTP/1.1\u001b[0m\" 200 -\n",
      "127.0.0.1 - - [04/Jan/2020 08:38:58] \"\u001b[36mGET /static/images/vino_blanco_3.jpg HTTP/1.1\u001b[0m\" 304 -\n",
      "INFO:werkzeug:127.0.0.1 - - [04/Jan/2020 08:38:58] \"\u001b[36mGET /static/images/vino_blanco_3.jpg HTTP/1.1\u001b[0m\" 304 -\n",
      "127.0.0.1 - - [04/Jan/2020 08:38:59] \"\u001b[37mGET /backend?fixed_acidity=7.5&volatile_acidity=0.4&citric_acid=0.3&residual_sugar=29.5&chlorides=0.05&free_sulfur_dioxide=196&total_sulfur_dioxide=115&density=0.99&pH=3.2&sulphates=0.5&alcohol=10.5&color=0 HTTP/1.1\u001b[0m\" 200 -\n",
      "INFO:werkzeug:127.0.0.1 - - [04/Jan/2020 08:38:59] \"\u001b[37mGET /backend?fixed_acidity=7.5&volatile_acidity=0.4&citric_acid=0.3&residual_sugar=29.5&chlorides=0.05&free_sulfur_dioxide=196&total_sulfur_dioxide=115&density=0.99&pH=3.2&sulphates=0.5&alcohol=10.5&color=0 HTTP/1.1\u001b[0m\" 200 -\n",
      "127.0.0.1 - - [04/Jan/2020 08:39:01] \"\u001b[37mGET /backend?fixed_acidity=7.5&volatile_acidity=0.4&citric_acid=0.3&residual_sugar=29.5&chlorides=0.05&free_sulfur_dioxide=196&total_sulfur_dioxide=115&density=0.99&pH=3.2&sulphates=0.5&alcohol=10.5&color=1 HTTP/1.1\u001b[0m\" 200 -\n",
      "INFO:werkzeug:127.0.0.1 - - [04/Jan/2020 08:39:01] \"\u001b[37mGET /backend?fixed_acidity=7.5&volatile_acidity=0.4&citric_acid=0.3&residual_sugar=29.5&chlorides=0.05&free_sulfur_dioxide=196&total_sulfur_dioxide=115&density=0.99&pH=3.2&sulphates=0.5&alcohol=10.5&color=1 HTTP/1.1\u001b[0m\" 200 -\n",
      "127.0.0.1 - - [04/Jan/2020 08:39:01] \"\u001b[36mGET /static/images/vino_tinto_3.jpg HTTP/1.1\u001b[0m\" 304 -\n",
      "INFO:werkzeug:127.0.0.1 - - [04/Jan/2020 08:39:01] \"\u001b[36mGET /static/images/vino_tinto_3.jpg HTTP/1.1\u001b[0m\" 304 -\n",
      "127.0.0.1 - - [04/Jan/2020 08:39:02] \"\u001b[37mGET /backend?fixed_acidity=11&volatile_acidity=0.4&citric_acid=0.3&residual_sugar=29.5&chlorides=0.05&free_sulfur_dioxide=196&total_sulfur_dioxide=115&density=0.99&pH=3.2&sulphates=0.5&alcohol=10.5&color=1 HTTP/1.1\u001b[0m\" 200 -\n",
      "INFO:werkzeug:127.0.0.1 - - [04/Jan/2020 08:39:02] \"\u001b[37mGET /backend?fixed_acidity=11&volatile_acidity=0.4&citric_acid=0.3&residual_sugar=29.5&chlorides=0.05&free_sulfur_dioxide=196&total_sulfur_dioxide=115&density=0.99&pH=3.2&sulphates=0.5&alcohol=10.5&color=1 HTTP/1.1\u001b[0m\" 200 -\n",
      "127.0.0.1 - - [04/Jan/2020 08:39:03] \"\u001b[37mGET /backend?fixed_acidity=11&volatile_acidity=1.28&citric_acid=0.3&residual_sugar=29.5&chlorides=0.05&free_sulfur_dioxide=196&total_sulfur_dioxide=115&density=0.99&pH=3.2&sulphates=0.5&alcohol=10.5&color=1 HTTP/1.1\u001b[0m\" 200 -\n",
      "INFO:werkzeug:127.0.0.1 - - [04/Jan/2020 08:39:03] \"\u001b[37mGET /backend?fixed_acidity=11&volatile_acidity=1.28&citric_acid=0.3&residual_sugar=29.5&chlorides=0.05&free_sulfur_dioxide=196&total_sulfur_dioxide=115&density=0.99&pH=3.2&sulphates=0.5&alcohol=10.5&color=1 HTTP/1.1\u001b[0m\" 200 -\n",
      "127.0.0.1 - - [04/Jan/2020 08:39:04] \"\u001b[37mGET /backend?fixed_acidity=11&volatile_acidity=1.28&citric_acid=0.3&residual_sugar=29.5&chlorides=0.05&free_sulfur_dioxide=61&total_sulfur_dioxide=115&density=0.99&pH=3.2&sulphates=0.5&alcohol=10.5&color=1 HTTP/1.1\u001b[0m\" 200 -\n",
      "INFO:werkzeug:127.0.0.1 - - [04/Jan/2020 08:39:04] \"\u001b[37mGET /backend?fixed_acidity=11&volatile_acidity=1.28&citric_acid=0.3&residual_sugar=29.5&chlorides=0.05&free_sulfur_dioxide=61&total_sulfur_dioxide=115&density=0.99&pH=3.2&sulphates=0.5&alcohol=10.5&color=1 HTTP/1.1\u001b[0m\" 200 -\n",
      "127.0.0.1 - - [04/Jan/2020 08:39:04] \"\u001b[37mGET /backend?fixed_acidity=11&volatile_acidity=1.28&citric_acid=0.3&residual_sugar=29.5&chlorides=0.05&free_sulfur_dioxide=1&total_sulfur_dioxide=115&density=0.99&pH=3.2&sulphates=0.5&alcohol=10.5&color=1 HTTP/1.1\u001b[0m\" 200 -\n",
      "INFO:werkzeug:127.0.0.1 - - [04/Jan/2020 08:39:04] \"\u001b[37mGET /backend?fixed_acidity=11&volatile_acidity=1.28&citric_acid=0.3&residual_sugar=29.5&chlorides=0.05&free_sulfur_dioxide=1&total_sulfur_dioxide=115&density=0.99&pH=3.2&sulphates=0.5&alcohol=10.5&color=1 HTTP/1.1\u001b[0m\" 200 -\n",
      "127.0.0.1 - - [04/Jan/2020 08:39:06] \"\u001b[37mGET /backend?fixed_acidity=11&volatile_acidity=1.28&citric_acid=0.3&residual_sugar=29.5&chlorides=0.05&free_sulfur_dioxide=1&total_sulfur_dioxide=440&density=0.99&pH=3.2&sulphates=0.5&alcohol=10.5&color=1 HTTP/1.1\u001b[0m\" 200 -\n",
      "INFO:werkzeug:127.0.0.1 - - [04/Jan/2020 08:39:06] \"\u001b[37mGET /backend?fixed_acidity=11&volatile_acidity=1.28&citric_acid=0.3&residual_sugar=29.5&chlorides=0.05&free_sulfur_dioxide=1&total_sulfur_dioxide=440&density=0.99&pH=3.2&sulphates=0.5&alcohol=10.5&color=1 HTTP/1.1\u001b[0m\" 200 -\n",
      "127.0.0.1 - - [04/Jan/2020 08:39:06] \"\u001b[37mGET /backend?fixed_acidity=11&volatile_acidity=1.28&citric_acid=0.3&residual_sugar=29.5&chlorides=0.05&free_sulfur_dioxide=1&total_sulfur_dioxide=440&density=1.02&pH=3.2&sulphates=0.5&alcohol=10.5&color=1 HTTP/1.1\u001b[0m\" 200 -\n",
      "INFO:werkzeug:127.0.0.1 - - [04/Jan/2020 08:39:06] \"\u001b[37mGET /backend?fixed_acidity=11&volatile_acidity=1.28&citric_acid=0.3&residual_sugar=29.5&chlorides=0.05&free_sulfur_dioxide=1&total_sulfur_dioxide=440&density=1.02&pH=3.2&sulphates=0.5&alcohol=10.5&color=1 HTTP/1.1\u001b[0m\" 200 -\n",
      "127.0.0.1 - - [04/Jan/2020 08:39:07] \"\u001b[37mGET /backend?fixed_acidity=11&volatile_acidity=1.28&citric_acid=0.3&residual_sugar=29.5&chlorides=0.05&free_sulfur_dioxide=1&total_sulfur_dioxide=440&density=1.02&pH=3.5&sulphates=0.5&alcohol=10.5&color=1 HTTP/1.1\u001b[0m\" 200 -\n",
      "INFO:werkzeug:127.0.0.1 - - [04/Jan/2020 08:39:07] \"\u001b[37mGET /backend?fixed_acidity=11&volatile_acidity=1.28&citric_acid=0.3&residual_sugar=29.5&chlorides=0.05&free_sulfur_dioxide=1&total_sulfur_dioxide=440&density=1.02&pH=3.5&sulphates=0.5&alcohol=10.5&color=1 HTTP/1.1\u001b[0m\" 200 -\n",
      "127.0.0.1 - - [04/Jan/2020 08:39:08] \"\u001b[37mGET /backend?fixed_acidity=11&volatile_acidity=1.28&citric_acid=0.3&residual_sugar=29.5&chlorides=0.05&free_sulfur_dioxide=1&total_sulfur_dioxide=440&density=1.02&pH=3.5&sulphates=1.2&alcohol=10.5&color=1 HTTP/1.1\u001b[0m\" 200 -\n",
      "INFO:werkzeug:127.0.0.1 - - [04/Jan/2020 08:39:08] \"\u001b[37mGET /backend?fixed_acidity=11&volatile_acidity=1.28&citric_acid=0.3&residual_sugar=29.5&chlorides=0.05&free_sulfur_dioxide=1&total_sulfur_dioxide=440&density=1.02&pH=3.5&sulphates=1.2&alcohol=10.5&color=1 HTTP/1.1\u001b[0m\" 200 -\n",
      "127.0.0.1 - - [04/Jan/2020 08:39:08] \"\u001b[37mGET /static/images/vino_tinto_9.jpg HTTP/1.1\u001b[0m\" 200 -\n",
      "INFO:werkzeug:127.0.0.1 - - [04/Jan/2020 08:39:08] \"\u001b[37mGET /static/images/vino_tinto_9.jpg HTTP/1.1\u001b[0m\" 200 -\n",
      "127.0.0.1 - - [04/Jan/2020 08:39:11] \"\u001b[37mGET /backend?fixed_acidity=11&volatile_acidity=1.28&citric_acid=0.8&residual_sugar=29.5&chlorides=0.05&free_sulfur_dioxide=1&total_sulfur_dioxide=440&density=1.02&pH=3.5&sulphates=1.2&alcohol=10.5&color=1 HTTP/1.1\u001b[0m\" 200 -\n",
      "INFO:werkzeug:127.0.0.1 - - [04/Jan/2020 08:39:11] \"\u001b[37mGET /backend?fixed_acidity=11&volatile_acidity=1.28&citric_acid=0.8&residual_sugar=29.5&chlorides=0.05&free_sulfur_dioxide=1&total_sulfur_dioxide=440&density=1.02&pH=3.5&sulphates=1.2&alcohol=10.5&color=1 HTTP/1.1\u001b[0m\" 200 -\n"
     ]
    },
    {
     "name": "stderr",
     "output_type": "stream",
     "text": [
      "127.0.0.1 - - [04/Jan/2020 08:39:12] \"\u001b[37mGET /backend?fixed_acidity=11&volatile_acidity=1.28&citric_acid=1.3&residual_sugar=29.5&chlorides=0.05&free_sulfur_dioxide=1&total_sulfur_dioxide=440&density=1.02&pH=3.5&sulphates=1.2&alcohol=10.5&color=1 HTTP/1.1\u001b[0m\" 200 -\n",
      "INFO:werkzeug:127.0.0.1 - - [04/Jan/2020 08:39:12] \"\u001b[37mGET /backend?fixed_acidity=11&volatile_acidity=1.28&citric_acid=1.3&residual_sugar=29.5&chlorides=0.05&free_sulfur_dioxide=1&total_sulfur_dioxide=440&density=1.02&pH=3.5&sulphates=1.2&alcohol=10.5&color=1 HTTP/1.1\u001b[0m\" 200 -\n",
      "127.0.0.1 - - [04/Jan/2020 08:39:13] \"\u001b[37mGET /backend?fixed_acidity=11&volatile_acidity=1.28&citric_acid=1.3&residual_sugar=29.5&chlorides=0.05&free_sulfur_dioxide=1&total_sulfur_dioxide=440&density=1.02&pH=3.5&sulphates=1.2&alcohol=10.5&color=1 HTTP/1.1\u001b[0m\" 200 -\n",
      "INFO:werkzeug:127.0.0.1 - - [04/Jan/2020 08:39:13] \"\u001b[37mGET /backend?fixed_acidity=11&volatile_acidity=1.28&citric_acid=1.3&residual_sugar=29.5&chlorides=0.05&free_sulfur_dioxide=1&total_sulfur_dioxide=440&density=1.02&pH=3.5&sulphates=1.2&alcohol=10.5&color=1 HTTP/1.1\u001b[0m\" 200 -\n",
      "127.0.0.1 - - [04/Jan/2020 08:39:13] \"\u001b[37mGET /backend?fixed_acidity=11&volatile_acidity=0.08&citric_acid=1.3&residual_sugar=29.5&chlorides=0.05&free_sulfur_dioxide=1&total_sulfur_dioxide=440&density=1.02&pH=3.5&sulphates=1.2&alcohol=10.5&color=1 HTTP/1.1\u001b[0m\" 200 -\n",
      "INFO:werkzeug:127.0.0.1 - - [04/Jan/2020 08:39:13] \"\u001b[37mGET /backend?fixed_acidity=11&volatile_acidity=0.08&citric_acid=1.3&residual_sugar=29.5&chlorides=0.05&free_sulfur_dioxide=1&total_sulfur_dioxide=440&density=1.02&pH=3.5&sulphates=1.2&alcohol=10.5&color=1 HTTP/1.1\u001b[0m\" 200 -\n",
      "127.0.0.1 - - [04/Jan/2020 08:39:14] \"\u001b[37mGET /backend?fixed_acidity=11&volatile_acidity=0.8&citric_acid=1.3&residual_sugar=29.5&chlorides=0.05&free_sulfur_dioxide=1&total_sulfur_dioxide=440&density=1.02&pH=3.5&sulphates=1.2&alcohol=10.5&color=1 HTTP/1.1\u001b[0m\" 200 -\n",
      "INFO:werkzeug:127.0.0.1 - - [04/Jan/2020 08:39:14] \"\u001b[37mGET /backend?fixed_acidity=11&volatile_acidity=0.8&citric_acid=1.3&residual_sugar=29.5&chlorides=0.05&free_sulfur_dioxide=1&total_sulfur_dioxide=440&density=1.02&pH=3.5&sulphates=1.2&alcohol=10.5&color=1 HTTP/1.1\u001b[0m\" 200 -\n"
     ]
    }
   ],
   "source": [
    "# librerias\n",
    "from flask import Flask\n",
    "from flask import render_template\n",
    "from flask import flash\n",
    "from flask import request\n",
    "from flask import jsonify\n",
    "from flask import Markup\n",
    "\n",
    "import logging\n",
    "import io\n",
    "import os\n",
    "import sys\n",
    "\n",
    "import pandas as pd\n",
    "import numpy as np\n",
    "import scipy\n",
    "import pickle\n",
    "\n",
    "from sklearn.ensemble import GradientBoostingClassifier as GBC\n",
    "\n",
    "\n",
    "\n",
    "# inicia flask\n",
    "app=Flask(__name__)\n",
    "\n",
    "\n",
    "\n",
    "# modelo \n",
    "gbc=None\n",
    "\n",
    "\n",
    "# variables, caracteristicas\n",
    "var=None\n",
    " \n",
    "    \n",
    "\n",
    "# para cargar las imagenes\n",
    "def imagen_vino(color, calidad):\n",
    "    if color==0:\n",
    "        color_str='blanco'\n",
    "    else:\n",
    "        color_str='tinto'\n",
    "    return('/static/images/vino_' +color_str+'_'+str(calidad)+'.jpg')\n",
    "\n",
    "\n",
    "\n",
    "\n",
    "# antes del primer request\n",
    "@app.before_first_request\n",
    "def startup():\n",
    "    global gbc\n",
    "    gbc=pickle.load(open('data/gbc.p','rb'))\n",
    "    global var\n",
    "    var=pd.read_csv('data/vino_data.csv').drop('quality', axis=1).columns\n",
    "\n",
    "\n",
    "\n",
    "# manejo de errores\n",
    "@app.errorhandler(500)\n",
    "def server_error(e):\n",
    "    logging.exception('algun error...')\n",
    "    return \"\"\"\n",
    "    And internal error <pre>{}</pre>\n",
    "    \"\"\".format(e), 500\n",
    "\n",
    "\n",
    "\n",
    "# conexion a traves de ruta\n",
    "@app.route('/backend', methods=['POST', 'GET'])\n",
    "def backend():\n",
    "    # requests\n",
    "    req=[float(request.args.get(e.replace(' ', '_'))) for e in var]\n",
    "    \n",
    "    # nuevos datos\n",
    "    n_data={k:v for k,v in zip(var, req)}\n",
    "    n_data['color']=int(request.args.get('color'))\n",
    "    \n",
    "    X_pred=pd.DataFrame.from_dict(n_data, orient='index').T\n",
    "\n",
    "    # prediccion\n",
    "    prob=gbc.predict_proba(X_pred)\n",
    "\n",
    "    pred=[3,6,9][np.argmax(prob[0])]\n",
    "    \n",
    "    return jsonify({'prediccion':pred, \n",
    "                    'imagen': imagen_vino(n_data['color'], pred)})\n",
    "\n",
    "\n",
    "# principal\n",
    "@app.route(\"/\", methods=['POST', 'GET'])\n",
    "def main():\n",
    "    logging.warning('¡main!')\n",
    "    # carga por defecto\n",
    "    return render_template('index.html', \n",
    "                           prediccion=1, \n",
    "                           imagen='/static/images/vino_tinto_6.jpg')\n",
    "\n",
    "\n",
    "\n",
    "\n",
    "\n",
    "# solo en local\n",
    "if __name__=='__main__':\n",
    "    app.run(debug=False)\n"
   ]
  },
  {
   "cell_type": "markdown",
   "metadata": {},
   "source": [
    "## Codigo HTML"
   ]
  },
  {
   "cell_type": "raw",
   "metadata": {},
   "source": []
  }
 ],
 "metadata": {
  "kernelspec": {
   "display_name": "Python 3",
   "language": "python",
   "name": "python3"
  },
  "language_info": {
   "codemirror_mode": {
    "name": "ipython",
    "version": 3
   },
   "file_extension": ".py",
   "mimetype": "text/x-python",
   "name": "python",
   "nbconvert_exporter": "python",
   "pygments_lexer": "ipython3",
   "version": "3.7.5"
  }
 },
 "nbformat": 4,
 "nbformat_minor": 2
}
