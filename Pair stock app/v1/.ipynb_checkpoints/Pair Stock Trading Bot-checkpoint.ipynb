{
 "cells": [
  {
   "cell_type": "markdown",
   "metadata": {},
   "source": [
    "# Estrategia Pair-Trading\n",
    "\n",
    "La idea detras de esta estrategia de trading es que los stocks relacionados, que tienen cierta correlacion, tienden a moverse juntos.\n",
    "\n",
    "Por ejemplo, si se encuentra un comportamiento inusual, donde se separan mucho ambos stocks (suponiendo correlacion positiva), se entra en corto a la mas alta y en largo a la mas baja de las dos. A la separacion existente entre ambos stocks se le llama 'spread', cuanto mas largo sea este, mas largo podra ser el trade.\n",
    "\n",
    "Esta estrategia es muy simple, pero sirve al proposito de crear una aplicacion web con Python desde cero..se ira mejorando."
   ]
  },
  {
   "cell_type": "markdown",
   "metadata": {},
   "source": [
    "# Datos\n",
    "\n",
    "Se usaran datos del Dow Jones Industrial, de las 10 compañias que mas peso tienen."
   ]
  },
  {
   "cell_type": "code",
   "execution_count": 1,
   "metadata": {},
   "outputs": [],
   "source": [
    "import pandas as pd\n",
    "import numpy as np\n",
    "import matplotlib.pyplot as plt"
   ]
  },
  {
   "cell_type": "code",
   "execution_count": 2,
   "metadata": {},
   "outputs": [],
   "source": [
    "index_symbol = ['^DJI']  # Dow Jones Industrial\n",
    "\n",
    "\n",
    "stock_symbols = ['BA',    # Boeing\n",
    "                 'GS',    # Goldman Sachs\n",
    "                 'UNH',   # UnitedHealth Group\n",
    "                 'MMM',   # 3M\n",
    "                 'HD',    # Home Depot\n",
    "                 'AAPL',  # Apple\n",
    "                 'MCD',   # McDonalds\n",
    "                 'IBM',   # IBM\n",
    "                 'CAT',   # Caterpillar\n",
    "                 'TRV']   # Travelers"
   ]
  },
  {
   "cell_type": "markdown",
   "metadata": {},
   "source": [
    "**para datos en directo o actualizados [yahoo finance](https://finance.yahoo.com)**"
   ]
  },
  {
   "cell_type": "code",
   "execution_count": null,
   "metadata": {},
   "outputs": [],
   "source": []
  },
  {
   "cell_type": "code",
   "execution_count": null,
   "metadata": {},
   "outputs": [],
   "source": []
  }
 ],
 "metadata": {
  "kernelspec": {
   "display_name": "Python 3",
   "language": "python",
   "name": "python3"
  },
  "language_info": {
   "codemirror_mode": {
    "name": "ipython",
    "version": 3
   },
   "file_extension": ".py",
   "mimetype": "text/x-python",
   "name": "python",
   "nbconvert_exporter": "python",
   "pygments_lexer": "ipython3",
   "version": "3.7.5"
  }
 },
 "nbformat": 4,
 "nbformat_minor": 2
}
